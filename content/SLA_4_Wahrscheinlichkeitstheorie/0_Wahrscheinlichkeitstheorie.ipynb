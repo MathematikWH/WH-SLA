{
 "cells": [
  {
   "cell_type": "markdown",
   "metadata": {},
   "source": [
    "# Eine Einführung in die Wahrscheinlichkeitstheorie\n",
    "<a id=\"definition\"></a>\n",
    "\n",
    "Dieses Notebook soll Ihnen einen Überblick über die Wahrscheinlichekitstheorie bieten. Sie werden verschiedene Verteilungen und eine Anwendung des z-Tests kennenlernen.\n",
    "\n",
    "<b> Python Grundlagen: </b> Schleifen, Kontrollstrukturen, iterative und induktive Algorithmen, Plots <br>\n",
    "<b> Math. Grundlagen:</b>  Abiturniveau Analysis, analytische Geometrie<br>\n",
    "\n",
    "<b>Inhaltsverzeichniss:</b> <br>\n",
    "<ul>\n",
    "<li><a href=\"#1\">Zufälle in der Stochastik</a></li>\n",
    "\n",
    "</ul>\n",
    "\n",
    "<hr>"
   ]
  },
  {
   "cell_type": "code",
   "execution_count": 5,
   "metadata": {},
   "outputs": [],
   "source": [
    "# Import der benötigten Module\n",
    "import numpy as np\n",
    "import matplotlib.pyplot as plt\n",
    "from IPython.display import display, Latex\n",
    "from ipywidgets import interactive, widgets\n",
    "from mpl_toolkits.mplot3d.art3d import Poly3DCollection"
   ]
  },
  {
   "cell_type": "markdown",
   "metadata": {},
   "source": [
    "## Wahrscheinlichkeiten\n",
    "\n",
    "Was ein Zufall ist, bleibt eine ungelöste, philosophische Frage. Das Wetter ist zufällig und eine Wettervorhersage basiert auf stochastischen Aussagen. Wird es morgen regnen? Aller Wahrscheinlichkeit nach ja, doch ist ein sonniger Nachmittag nicht ausgeschlossen. Der Zufall ist ständiger Begleiter des Alltags und doch hat er in die Mathematik gefunden. Genauer ins Teilgebiet der Stochastik. Eine erste Definition von Stochastik ist die Lehre von Gesetzmäßigkeiten des Zufalls. Das mag paradox klingen, da sich Zufälle in der Vorstellung ohne Muster zu erkennen geben. Bei genügend hoher Anzahl eines Würfelwurfs wird man jedoch erkennen, dass bei einem regelmäßigen Würfel jede Seite <i>gleich wahrscheinlich</i> gewürfelt werden kann. Jede Seite hat eine Wahrscheinlichkeit von $\\frac{1}{6}$ sagt man. Der Begriff Wahrscheinlichkeit basiert dahingehend auf der Vorstellung der <i>relativen Häufigkeit</i>. Es empfiehlt sich, nachfolgenden Code auszuführen, um solch einen Würfelwurf zu simulieren!"
   ]
  },
  {
   "cell_type": "code",
   "execution_count": 6,
   "metadata": {},
   "outputs": [
    {
     "data": {
      "application/vnd.jupyter.widget-view+json": {
       "model_id": "bad6850dbce64f29a5ec2b5d2731a3dd",
       "version_major": 2,
       "version_minor": 0
      },
      "text/plain": [
       "interactive(children=(IntSlider(value=1, description='n', max=1000, min=1), Output()), _dom_classes=('widget-i…"
      ]
     },
     "metadata": {},
     "output_type": "display_data"
    }
   ],
   "source": [
    "# Sie müssen diesen Code nur ausführen\n",
    "\n",
    "import random\n",
    "\n",
    "\n",
    "def probability(n):\n",
    "\n",
    "    anzahlSechs = 0\n",
    "\n",
    "    for i in range(0, n):\n",
    "        A = [1, 2, 3, 4, 5, 6]\n",
    "\n",
    "        # Select a random item\n",
    "        zufallszahl = random.choice(A)\n",
    "\n",
    "        if zufallszahl == 6:\n",
    "            anzahlSechs += 1\n",
    "\n",
    "    relHauf = anzahlSechs / n\n",
    "    return relHauf\n",
    "\n",
    "\n",
    "def plot(n):\n",
    "    plt.figure(figsize=(6, 6))\n",
    "    ax = plt.subplot()\n",
    "    ax.axvline(x=0, color=\"k\", ls=\"-\")\n",
    "    ax.axhline(y=0, color=\"k\", ls=\"-\")\n",
    "    ax.axhline(1 / 6, color=\"k\", ls=\"-\")\n",
    "    ax.text(1020, 1 / 6, \"1/6\")\n",
    "\n",
    "    if n == 1:\n",
    "        A = [1, 2, 3, 4, 5, 6]\n",
    "\n",
    "        # Select a random item\n",
    "        zufallszahl = random.choice(A)\n",
    "\n",
    "        if zufallszahl == 6:\n",
    "            y = 1\n",
    "        else:\n",
    "            y = 0\n",
    "\n",
    "    for i in range(1, n):\n",
    "        x = i\n",
    "        y = probability(x)\n",
    "        plt.plot(\n",
    "            x, y, marker=\"o\", markersize=5, markeredgecolor=\"red\", markerfacecolor=\"red\"\n",
    "        )\n",
    "\n",
    "    plt.xlim(0, 1000)\n",
    "    plt.ylim(0, 0.5)\n",
    "    print(\n",
    "        \"Bei n =\", n, \"Würfen des Würfels liegt eine relative Häufigkeit von\", y, \"vor\"\n",
    "    )\n",
    "    plt.show()\n",
    "\n",
    "\n",
    "interactive(plot, n=widgets.IntSlider(min=1, max=1000, step=1, value=1))"
   ]
  },
  {
   "cell_type": "markdown",
   "metadata": {},
   "source": [
    "### Diskreter Wahrscheinlichkeitsraum\n",
    "\n",
    "Der gerade erwähnte Würfelwurf ist ein Beispiel für ein sogenanntes diskretes Zufallsexperiment. Allgemein wird ein <i>diskretes Zufallsexperiment</i> durch eine abzählbare Menge $\\Omega$ und deren Teilmengen $A \\subset \\Omega$, den <i>Ereignissen</i> beschrieben. Jedes Element $\\omega$ wird <i>Elementarereignis</i> oder <i>Ergebnis</i> genannt, $A = \\emptyset$ heißt <i>unmögliches Ereignis</i>, während $A = \\Omega$ <i>sicheres Ereignis</i> heißt. Die Menge $\\mathcal{P}(A)$ beschreibt die Menge aller Ereignisse, auch <i>Ereignisraum</i> genannt. \n",
    "\n",
    "Eine Funktion $p : \\Omega \\rightarrow [0,1]$ heißt dann diskrete Wahrscheinlichkeitsdichte, sofern $$ \\sum_{\\omega \\in \\Omega} p(\\omega) = 1$$ gilt. Das Tupel $(\\Omega, p)$ nennt man diskreten <i>Wahrscheinlichkeitsraum</i>. Die Funktion $$ \\mathbb{P} : \\mathcal{P}(\\Omega) \\rightarrow [0,1], \\; \\mathbb{P}(A) := \\sum_{\\omega \\in A}p(\\omega)$$ für jedes Ereignis $A \\subset \\Omega$ wird <i>Wahrschienlichkeitsmaß</i> oder <i>Verteilung</i> genannt.\n",
    "\n",
    "<div style= \"color: black;background-color: powderblue ;margin: 10 px auto; padding: 10px; border-radius: 10px\">\n",
    "    <p style=\"font-size:12pt; text-align:center; color:   black; background-color: lightskyblue ;margin: 10 px auto; padding: 10px; border-radius: 10px\" id=\"1\"><b>Aufgabe 1</b>  </p> \n",
    "\n",
    "(a) Modellieren Sie den Münzwurf. Schreiben Sie dazu eine Funktion <code>coinflip(n: int)</code>, die den Münzwurf nach <code>n</code> Würfen simulieren soll, indem die absolute und relative Häufigkeit des Wurfs Zahl ausgegeben wird. Ergänzen Sie dazu den Code an den entsprechenden Stellen.\n",
    "\n",
    "(b) Ausgehend von (a), definieren Sie einen diskreten Wahrscheinlichkeitsraum $(\\Omega, p)$, der den Münzwurf abbildet. Wie lautet das Wahrscheinlichkeitsmaß $\\mathbb{P}$?\n",
    "\n",
    "(c) Was haben der Münzwurf und der bisherige Würfelwurf in der Verteilung gemeinsam?"
   ]
  },
  {
   "cell_type": "code",
   "execution_count": 7,
   "metadata": {},
   "outputs": [
    {
     "data": {
      "application/vnd.jupyter.widget-view+json": {
       "model_id": "299f67c3ac1b49f6bf13d81ec3e718f4",
       "version_major": 2,
       "version_minor": 0
      },
      "text/plain": [
       "interactive(children=(IntSlider(value=1, description='n', max=1000, min=1), Output()), _dom_classes=('widget-i…"
      ]
     },
     "metadata": {},
     "output_type": "display_data"
    }
   ],
   "source": [
    "# Aufgabenteil (a)\n",
    "\n",
    "# Sie müssen diesen Code nur ausführen\n",
    "\n",
    "import random\n",
    "\n",
    "\n",
    "def coinflip(n):\n",
    "    münzeZahl = 0\n",
    "    for i in range(1, n):\n",
    "        A = [0, 1]  # wie kann man Kopf oder Zahl als Ereignis auffassen?\n",
    "\n",
    "        # Hier wird zufällig ein Wert gewählt\n",
    "        zufallswahl = random.choice(A)\n",
    "\n",
    "        if zufallswahl == 1:\n",
    "            münzeZahl += 1\n",
    "\n",
    "    relHauf = münzeZahl / n\n",
    "    return münzeZahl, relHauf\n",
    "\n",
    "\n",
    "def plot(n):\n",
    "    y = random.choice([0, 1])\n",
    "    plt.figure(figsize=(6, 6))\n",
    "    ax = plt.subplot()\n",
    "    ax.axvline(x=0, color=\"k\", ls=\"-\")\n",
    "    ax.axhline(y=0, color=\"k\", ls=\"-\")\n",
    "    ax.axhline(1 / 2, color=\"k\", ls=\"-\")\n",
    "    ax.text(1020, 1 / 6, \"1/6\")\n",
    "\n",
    "    absAnzahl = 0\n",
    "\n",
    "    for i in range(1, n):\n",
    "        x = i\n",
    "        absAnzahl, y = coinflip(x)\n",
    "        plt.plot(\n",
    "            x, y, marker=\"o\", markersize=5, markeredgecolor=\"red\", markerfacecolor=\"red\"\n",
    "        )\n",
    "\n",
    "    plt.xlim(0, 1000)\n",
    "    plt.ylim(0, 1)\n",
    "    print(\n",
    "        \"Bei n =\",\n",
    "        n,\n",
    "        \"Würfen einer Münze liegt eine absolute Häufigkeit von\",\n",
    "        absAnzahl,\n",
    "        \"vor.\\nDie relative Häufigkeit beträgt\",\n",
    "        y,\n",
    "    )\n",
    "    plt.show()\n",
    "\n",
    "\n",
    "interactive(plot, n=widgets.IntSlider(min=1, max=1000, step=1, value=1))"
   ]
  },
  {
   "cell_type": "markdown",
   "metadata": {},
   "source": [
    "### Das Laplace-Experiment\n",
    "\n",
    "Experimente, in denen jedes Elementarereignis dieselbe Wahrscheinlichkeit trägt, wird <i>Gleichverteilung</i> oder <i>Laplace-Verteilung</i> genannt. Die Verteilung $p$ ist daher konstant. Das <i>Laplace-Experiment</i> ist dann ein Wahrscheinlichkeitsraum $(\\Omega, p)$ mit einem endlichen Zufallsexperiment $\\Omega$ und der Gleichverteilung $p$. Für die Berechnung der Wahrscheinlichkeit eines Ereignisses $A \\subset \\Omega$ sagt man auch \"Anzahl der günstigen Ergebnisse, geteilt durch die Anzahl aller Ergebnisse\" oder als Formel ausgedrückt \n",
    "$$\\mathbb{P}(A) = \\dfrac{|A|}{|\\Omega|}.$$\n",
    "\n",
    "Beispiele von Laplace-Experimenten sind die zuvor behandelten Münz- und Würfelwürfe.\n",
    "\n",
    "<div style= \"color: black;background-color: powderblue ;margin: 10 px auto; padding: 10px; border-radius: 10px\">\n",
    "    <p style=\"font-size:12pt; text-align:center; color:   black; background-color: lightskyblue ;margin: 10 px auto; padding: 10px; border-radius: 10px\" id=\"2\"><b>Aufgabe 2</b>  </p> \n",
    "\n",
    "(a) Modellieren Sie den zweifachen Würfelwurf $(w_1,w_2) \\in \\{1,\\ldots,6\\}^2$ und nehmen Sie an, dass es sich um faire Würfel handelt, d.h. jede Seite wird gleich wahrscheinlich gewürfelt. Schreiben Sie eine Funktion <code>probEyes(sum)</code>, die alle Augenpaare ausgibt, mit der eine vorgegebene Summe der Augen $w_1+w_2$ gewürfelt wird und zusätzlich die Wahrscheinlichkeit der Augensumme berechnet. Handelt es sich bei dem zweifachen-Würfelwurf um ein Laplace-Experiment? \n",
    "\n",
    "(b) Wie hoch ist die Wahrscheinlichkeit, dass bei einem dreifachen, fairen Würfelwurf ein Pasch (jeweils gleiche Augenzahlen) geworfen wurde? Ergänzen Sie dazu untenstehenden Code in der Funktion <code>pasch(n)</code>, wobei der Parameter $n$ nur $n = 2$ oder $n = 3$ sein darf. Beachten Sie, dass <i>algorithmisch</i> alle Elementarergeinisse bestimmt werden sollen."
   ]
  },
  {
   "cell_type": "code",
   "execution_count": 38,
   "metadata": {},
   "outputs": [
    {
     "name": "stdout",
     "output_type": "stream",
     "text": [
      "Das Ereignis \"Augensumme = 5\" lautet A = [(1, 4), (2, 3), (3, 2), (4, 1)] mit der Wahrscheinlichkeit p(A) = 0.1111111111111111\n"
     ]
    }
   ],
   "source": [
    "# Teilaufgabe (a)\n",
    "\n",
    "\n",
    "def probEyes(sum):\n",
    "    anz = 36\n",
    "\n",
    "    A = []\n",
    "\n",
    "    for i in range(1, 6):\n",
    "        for j in range(1, 6):\n",
    "            if i + j == sum:\n",
    "                A.append((i,j))\n",
    "    prob = len(A) / anz\n",
    "    return A, prob\n",
    "\n",
    "sum = 5\n",
    "A, prob = probEyes(sum)\n",
    "\n",
    "print(f\"Das Ereignis \\\"Augensumme = {sum}\\\" lautet A = {A} mit der Wahrscheinlichkeit p(A) = {prob}\")"
   ]
  },
  {
   "cell_type": "code",
   "execution_count": 59,
   "metadata": {},
   "outputs": [
    {
     "name": "stdout",
     "output_type": "stream",
     "text": [
      "Das Ereignis \"Pasch\" lautet A = [(0, 0, 0), (1, 1, 1), (2, 2, 2), (3, 3, 3), (4, 4, 4), (5, 5, 5)] bei 3 Würfen mit der Wahrscheinlichkeit p(A) = 0.027777777777777776\n"
     ]
    }
   ],
   "source": [
    "# Teilaufgabe (b)\n",
    "def pasch(n):\n",
    "\n",
    "    if not (n == 2 or n == 3):\n",
    "        print(\"Der Parameter n muss 2 oder 3 sein!\")\n",
    "        return\n",
    "    else: \n",
    "        anz = 6**n\n",
    "        A = []\n",
    "        if n > 2:\n",
    "            for i in range(0,6):\n",
    "                for j in range(0,6):\n",
    "                    for k in range (0,6):\n",
    "                        if i == j and j == k:\n",
    "                            A.append((i,j,k))\n",
    "        else:\n",
    "            for i in range(0,6):\n",
    "                for j in range(0,6):\n",
    "                    if i == j:\n",
    "                        A.append((i,j))\n",
    "    prob = len(A) / anz\n",
    "    return A, prob\n",
    "\n",
    "n = 3\n",
    "A, prob = pasch(n)\n",
    "\n",
    "print(f\"Das Ereignis \\\"Pasch\\\" lautet A = {A} bei {n} Würfen mit der Wahrscheinlichkeit p(A) = {prob}\")\n",
    "\n"
   ]
  },
  {
   "cell_type": "markdown",
   "metadata": {},
   "source": [
    "### Kombinatorik\n",
    "\n",
    "Wesentliches Werkzeug für weitere Untersuchungen von Laplace-Experimenten sind Kenntnisse der Kombinatorik, da man Anzahlen der Ergebnisse von Laplace-Experimenten braucht. Dafür verwendet man Fakultäten, die für $k \\in \\mathbb{N}$ folgendermaßen definiert sind:\n",
    "\n",
    "i) $k! = k \\cdot (k-1)!$ für $k > 1$,\n",
    "\n",
    "ii) $1! = 1$,\n",
    "\n",
    "iii) $0! = 1$.\n",
    "\n",
    "TEXT TEXT TEXT\n",
    "\n",
    "\n",
    "<div style= \"color: black;background-color: powderblue ;margin: 10 px auto; padding: 10px; border-radius: 10px\">\n",
    "    <p style=\"font-size:12pt; text-align:center; color:   black; background-color: lightskyblue ;margin: 10 px auto; padding: 10px; border-radius: 10px\" id=\"3\"><b>Aufgabe 3</b>  </p> \n",
    "\n",
    "(a) Schreiben Sie eine Funktion <code>factorial(n: int)</code>, die zu gegebener natürlicher Zahl $n$ die Fakultät $n!$ berechnet. Achten Sie auf Fallunterscheidungen, sofern nötig!\n",
    "\n",
    "(b) Schreiben Sie eine Funktion <code>binomialCoeff(n: int, k: int)</code>, die zwei natürliche Zahlen <code>n</code> und <code>k</code> entgegen nimmt mit <code>k <= n </code> und den Binomialkoeffizient $ \\begin{pmatrix} n \\\\ k \\end{pmatrix} $ berechnet."
   ]
  },
  {
   "cell_type": "code",
   "execution_count": null,
   "metadata": {},
   "outputs": [],
   "source": [
    "# Teilaufgabe (a)\n",
    "\n",
    "\n",
    "def factorial(n):\n",
    "\n",
    "    if n <= 1:\n",
    "        return 1\n",
    "    else:\n",
    "        return n * factorial(n - 1)\n",
    "\n",
    "\n",
    "print(factorial(5))"
   ]
  },
  {
   "cell_type": "code",
   "execution_count": null,
   "metadata": {},
   "outputs": [],
   "source": [
    "# Teilaufgabe (b)\n",
    "\n",
    "\n",
    "def binomialCoeff(n, k):\n",
    "\n",
    "    if n < k:\n",
    "        print(\"Die Eingabe n < k ist nicht erlaubt!\")\n",
    "    else:\n",
    "        binCoeff = factorial(n) / (factorial(k) * factorial(n - k))\n",
    "        return int(binCoeff)\n",
    "\n",
    "\n",
    "print(binomialCoeff(5, 2))"
   ]
  },
  {
   "cell_type": "markdown",
   "metadata": {},
   "source": [
    "### Zufallsvariablen\n",
    "\n",
    "In den vorangehenden Aufgaben war nicht immer das gesamte Zufallsexperiment und die Kenntnis darüber von Nöten. Beispielsweise kann es sein, dass bei einem Würfelwurf nur von Interesse ist, wie oft man nach $n$ Würfen eine Sechs gewürfelt hat. Diese Teilinformationen drückt man durch <i>Zufallsvariablen</i> aus, d.h. man möchte dem Zufall in gewisser Weise eine Funktion zuweisen. Genauer heißt dies: Für einen diskreten Wahrscheinlichkeitsraum $(\\Omega, p)$ sei eine Menge $S$ gegeben. Jede Funktion $$ X : \\Omega \\rightarrow S, \\quad \\omega \\mapsto X(\\omega)  $$ wird Zufallsvariable genannt. Ist $S$ abzählbar, so wird durch $$ \\mathbb{P}_X : \\mathcal{P}(S) \\rightarrow [0,1], \\quad A \\mapsto \\mathbb{P}_X(A) := \\mathbb{P}(\\{ X \\in A \\}) := \\mathbb{P}(\\{ \\omega \\in \\Omega : X(\\omega) \\in A \\}) $$ eine Verteilung der Zufallsvariable $X$ definiert. Dadurch generiert man einen Sichtwechsel, da in diesem Fall der Wahrscheinlichkeitsraum von untergerodneter Bedeutung ist.\n",
    "\n",
    "Beispielsweise betrachtet man den Würfelwurf als diskreten Wahrscheinlichkeitsraum wie zuvor, d.h. $\\Omega = \\{1, \\ldots 6\\}$ und $p(\\omega) = \\frac{1}{6}$ für alle $ \\omega \\in \\Omega$."
   ]
  },
  {
   "cell_type": "markdown",
   "metadata": {},
   "source": [
    "<div style= \"color: black;background-color: powderblue ;margin: 10 px auto; padding: 10px; border-radius: 10px\">\n",
    "    <p style=\"font-size:12pt; text-align:center; color:   black; background-color: lightskyblue ;margin: 10 px auto; padding: 10px; border-radius: 10px\" id=\"4\"><b>Aufgabe 4</b>  </p> \n",
    "\n"
   ]
  }
 ],
 "metadata": {
  "kernelspec": {
   "display_name": "base",
   "language": "python",
   "name": "python3"
  },
  "language_info": {
   "codemirror_mode": {
    "name": "ipython",
    "version": 3
   },
   "file_extension": ".py",
   "mimetype": "text/x-python",
   "name": "python",
   "nbconvert_exporter": "python",
   "pygments_lexer": "ipython3",
   "version": "3.12.7"
  }
 },
 "nbformat": 4,
 "nbformat_minor": 2
}
