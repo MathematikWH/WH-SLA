{
 "cells": [
  {
   "cell_type": "markdown",
   "metadata": {},
   "source": [
    "# Eine Einführung in die Wahrscheinlichkeitstheorie\n",
    "<a id=\"definition\"></a>\n",
    "\n",
    "Dieses Notebook soll Ihnen einen Überblick über die Wahrscheinlichekitstheorie bieten. Sie werden verschiedene Verteilungen und eine Anwendung des z-Tests kennenlernen.\n",
    "\n",
    "<b> Python Grundlagen: </b> Schleifen, Kontrollstrukturen, iterative und induktive Algorithmen, Plots <br>\n",
    "<b> Math. Grundlagen:</b>  Abiturniveau Analysis, analytische Geometrie<br>\n",
    "\n",
    "<b>Inhaltsverzeichniss:</b> <br>\n",
    "<ul>\n",
    "<li><a href=\"#1\">Zufälle in der Stochastik</a></li>\n",
    "\n",
    "</ul>\n",
    "\n",
    "<hr>"
   ]
  },
  {
   "cell_type": "code",
   "execution_count": 1,
   "metadata": {},
   "outputs": [],
   "source": [
    "# Import der benötigten Module\n",
    "import numpy as np\n",
    "import matplotlib.pyplot as plt\n",
    "from IPython.display import display, Latex\n",
    "from ipywidgets import interactive, widgets\n",
    "from mpl_toolkits.mplot3d.art3d import Poly3DCollection"
   ]
  },
  {
   "cell_type": "markdown",
   "metadata": {},
   "source": [
    "## Wahrscheinlichkeiten\n",
    "\n",
    "Was ein Zufall ist, bleibt eine ungelöste, philosophische Frage. Das Wetter ist zufällig und eine Wettervorhersage basiert auf stochastischen Aussagen. Wird es morgen regnen? Aller Wahrscheinlichkeit nach ja, doch ist ein sonniger Nachmittag nicht ausgeschlossen. Der Zufall ist ständiger Begleiter des Alltags und doch hat er in die Mathematik gefunden. Genauer ins Teilgebiet der Stochastik. Eine erste Definition von Stochastik ist die Lehre von Gesetzmäßigkeiten des Zufalls. Das mag paradox klingen, da sich Zufälle in der Vorstellung ohne Muster zu erkennen geben. Bei genügend hoher Anzahl eines Würfelwurfs wird man jedoch erkennen, dass bei einem regelmäßigen Würfel jede Seite gleich wahrscheinlich gewürfelt werden kann. Jede Seite hat eine Wahrscheinlichkeit von $\\frac{1}{6}$ sagt man. Der Begriff Wahrscheinlichkeit basiert dahingehend auf der Vorstellung der <i>relativen Häufigkeit</i>. Es empfiehlt sich, nachfolgenden Code auszuführen, um solch einen Würfelwurf zu simulieren!"
   ]
  },
  {
   "cell_type": "code",
   "execution_count": null,
   "metadata": {},
   "outputs": [
    {
     "data": {
      "application/vnd.jupyter.widget-view+json": {
       "model_id": "f18849a8dd394b2c8324a6bf6b4dfb07",
       "version_major": 2,
       "version_minor": 0
      },
      "text/plain": [
       "interactive(children=(IntSlider(value=1, description='n', max=1000, min=1), Output()), _dom_classes=('widget-i…"
      ]
     },
     "metadata": {},
     "output_type": "display_data"
    }
   ],
   "source": [
    "# Sie müssen diesen Code nur ausführen\n",
    "\n",
    "import random\n",
    "\n",
    "\n",
    "\n",
    "\n",
    "def probability(n):\n",
    "\n",
    "    anzahlSechs = 0\n",
    "\n",
    "    for i in range(0, n):\n",
    "        A = [1, 2, 3, 4, 5, 6]\n",
    "\n",
    "        # Select a random item\n",
    "        zufallszahl = random.choice(A)\n",
    "\n",
    "        if(zufallszahl == 6):\n",
    "            anzahlSechs += 1\n",
    "\n",
    "    relHauf = anzahlSechs / n\n",
    "    return relHauf\n",
    "    \n",
    "def plot(n):\n",
    "    plt.figure(figsize=(6, 6))\n",
    "    ax = plt.subplot()\n",
    "    ax.axvline(x=0, color=\"k\", ls=\"-\")\n",
    "    ax.axhline(y=0, color=\"k\", ls=\"-\")\n",
    "    ax.axhline(1/6, color=\"k\", ls=\"-\")\n",
    "\n",
    "    if n == 1:\n",
    "        A = [1, 2, 3, 4, 5, 6]\n",
    "\n",
    "        # Select a random item\n",
    "        zufallszahl = random.choice(A)\n",
    "\n",
    "        if(zufallszahl == 6):\n",
    "            y = 1\n",
    "        else:\n",
    "            y = 0\n",
    "\n",
    "    for i in range(1, n):\n",
    "        x = i\n",
    "        y = probability(x)\n",
    "        plt.plot(\n",
    "            x, y, marker=\"o\", markersize=5, markeredgecolor=\"red\", markerfacecolor=\"red\"\n",
    "        )\n",
    "    \n",
    "    plt.xlim(0, 1000)\n",
    "    plt.ylim(0, 0.5)\n",
    "    print(\"Bei n =\", n, \"Würfen des Würfels liegt eine relative Häufigkeit von\", y, \"vor\")\n",
    "    plt.show()\n",
    "\n",
    "interactive(plot, n=widgets.IntSlider(min=1, max=1000, step=1, value=1))\n"
   ]
  },
  {
   "cell_type": "markdown",
   "metadata": {},
   "source": [
    "\n",
    "### Diskreter Wahrscheinlichkeitsraum\n",
    "\n",
    "Der gerade erwähnte Würfelwurf ist ein Beispiel für ein sogenanntes diskretes Zufallsexperiment. Allgemein wird ein <i>diskretes Zufallsexperiment</i> durch eine abzählbare Menge $\\Omega$ und deren Teilmengen $A \\subset \\Omega$, den <i>Ereignissen</i> beschrieben. Jedes Element $\\omega$ wird Elementarereignis genannt, $A = \\emptyset$ heißt <i>unmögliches Ereignis</i>, während $A = \\Omega$ <i>sicheres Ereignis</i> heißt."
   ]
  }
 ],
 "metadata": {
  "kernelspec": {
   "display_name": "base",
   "language": "python",
   "name": "python3"
  },
  "language_info": {
   "codemirror_mode": {
    "name": "ipython",
    "version": 3
   },
   "file_extension": ".py",
   "mimetype": "text/x-python",
   "name": "python",
   "nbconvert_exporter": "python",
   "pygments_lexer": "ipython3",
   "version": "3.12.7"
  }
 },
 "nbformat": 4,
 "nbformat_minor": 2
}
