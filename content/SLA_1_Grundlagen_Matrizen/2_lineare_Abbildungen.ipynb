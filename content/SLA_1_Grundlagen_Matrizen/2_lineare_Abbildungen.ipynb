{
 "cells": [
  {
   "attachments": {},
   "cell_type": "markdown",
   "metadata": {},
   "source": [
    "# Lineare Abbildungen\n",
    "\n",
    "In diesem Notebook sollen Sie das Wissen, das Sie über Matrizen kennengelernt haben, anwenden und erweitern.\n",
    "$\\newcommand{\\Ima}{\\text{Im }}$\n"
   ]
  },
  {
   "attachments": {},
   "cell_type": "markdown",
   "metadata": {},
   "source": [
    "<b> Python Grundlagen: </b>  Varibalen, Kontrollstrukturen, Umgang mit NumPy<br>\n",
    "<b> Math. Grundlagen: </b> Körper, Vektoren, Vektorräume, lineare Abbildungen, Basen, Matrizen <br>\n",
    "\n",
    "<ul>\n",
    " <li><a href=\"#1\">Einstieg</a></li>\n",
    " <li><a href=\"#2\">Eigenschaften linearer Abbildung</a></li>\n",
    " <li><a href=\"#3\">Der Zusammenhang zu Matrizen</a></li>\n",
    "<li><a href=\"#4\">Beispiele linearer Abbildungen in der Ebene</a></li>\n",
    "    <ul>\n",
    "    <li><a href=\"#3.1\">Die Scherung entlang einer Achse</a></li>\n",
    "    <li><a href=\"#3.2\">Die Drehung um einen Winkel</a></li>\n",
    "    <li><a href=\"#3.3\">Die Verschiebung in Richtung eines Vektors</a></li>\n",
    "    </ul>\n",
    "</ul>"
   ]
  },
  {
   "cell_type": "code",
   "execution_count": 13,
   "metadata": {},
   "outputs": [],
   "source": [
    "# Import von benötigten Modulen\n",
    "%pip install -q ipywidgets\n",
    "import numpy as np\n",
    "import matplotlib.pyplot as plt\n",
    "from IPython.display import display, Latex\n",
    "from ipywidgets import interactive, FloatSlider\n",
    "import math"
   ]
  },
  {
   "attachments": {},
   "cell_type": "markdown",
   "metadata": {},
   "source": [
    "## Einstieg <a id=\"1\"></a>\n",
    "Sie wissen bereits, was eine lineare Abbildung ist. Das ist eine Abbildung (oder Funktion) $F$ zwischen zwei endlich dimensionalen $K$-Vektorräumen $V$ und $W$ ist, die jedem Vektor $v \\in V$ genau ein $w \\in W$ zuordnet und zwar so, dass Linearität der Abbildung erhalten bleibt, d.h. es gilt: $$F(v+w)=F(v)+F(w) \\text{ und } F(\\lambda v)=\\lambda F(v)$$ für alle $v\\in V$, $w\\in W$ und $\\lambda \\in K$. Anschaulich werden also Vektoren auf Vektoren abgebildet, sodass die zugrundeliegende Struktur der Vektorräume erhalten bleibt. \n",
    "\n",
    "<center><img src=\"LinAbb2.png\"  width=\"40%\" height=\"40%\"></center> \n",
    "\n",
    "Hier werden also die Vektoren $v_1$ bzw. $v_2$ im $\\mathbb{R}^2$ unter einer linearen Abbildung $F$ auf $w_1$ bzw. $w_2$ abgebildet.\n"
   ]
  },
  {
   "attachments": {},
   "cell_type": "markdown",
   "metadata": {},
   "source": [
    "<div style= \"color: black;background-color: powderblue ;margin: 10 px auto; padding: 10px; border-radius: 10px\">\n",
    "    <p style=\"font-size:12pt; text-align:center; color:   black; background-color: lightskyblue ;margin: 10 px auto; padding: 10px; border-radius: 10px\" id=\"1\"><b>Aufgabe 1</b>  </p> \n",
    "\n",
    "Prüfen Sie nach, ob es sich bei den folgenden Abbildungen um lineare Abbildungen handelt oder nicht. Geben Sie in den entsprechenden Code-Zellen über <code>True/False</code> an, welcher Fall vorliegt und prüfen Sie Ihre Eingabe. Geben Sie zusätzlich im Fall von <code>False</code> zwei Vektoren $x,y \\in \\mathbb{R}^2$ an, die die Linearität verletzen und ergänzen Sie den Code an den markierten Stellen.\n",
    "\n",
    "$$ \\text{a)} \\quad F \\colon \\mathbb{R}^2 \\longrightarrow \\mathbb{R}^3, \\begin{pmatrix*}[r] x_1\\\\x_2\\end{pmatrix*}\\mapsto \\begin{pmatrix*}[c] x_1x_2\\\\x_2\\\\x_1\\end{pmatrix*}, \\quad \\quad\\text{b)} \\quad F \\colon \\mathbb{R}^2 \\longrightarrow \\mathbb{R}^2, \\begin{pmatrix*}[r] x_1\\\\x_2\\end{pmatrix*}\\mapsto \\begin{pmatrix*}[c] 2x_1+4x_2\\\\3x_1+x_2\\end{pmatrix*} $$\n"
   ]
  },
  {
   "cell_type": "code",
   "execution_count": 3,
   "metadata": {},
   "outputs": [],
   "source": [
    "# Teilaufgabe a) und b)\n",
    "\n",
    "linear = # Legen Sie hier fest, ob die Abbildung aus a) bzw. b) linear ist\n",
    "\n",
    "x1 = np.array([1, 1])  # Diese Vektoren benötigen Sie\n",
    "x2 = np.array([1, 0])\n",
    "\n",
    "# Führen Sie anschließend untere Zellen aus:"
   ]
  },
  {
   "cell_type": "code",
   "execution_count": null,
   "metadata": {},
   "outputs": [],
   "source": [
    "# Überprüfung der Ergebnisse aus a)\n",
    "print(\n",
    "    \"Die Abbildung F ist nicht linear, also ist False korrekt. Ihre Antwort:\",\n",
    "    linear,\n",
    "    \"\\n\",\n",
    ")\n",
    "\n",
    "\n",
    "def F(x):  # Definieren Sie hier eine Funktion F, die den Vektor x auf F(x) wie angegeben abbildet und geben Sie das Ergebnis zurück\n",
    "    x_1 = x[0]\n",
    "    x_2 = x[1]\n",
    "    f_x = np.array([x_1 * x_2, x_1, x_2])\n",
    "\n",
    "    return f_x\n",
    "\n",
    "sum_first = F(x1 + x2)\n",
    "sum_later = F(x1) + F(x2)\n",
    "\n",
    "if not np.array_equal(sum_first, sum_later):\n",
    "    print(\"Die Vektoren x und y verletzen die Linearität, korrekt. Es ist F(x + y) =\", sum_first,\", aber F(x) + F(y) =\",sum_later)\n",
    "else:\n",
    "    print(\"Die Vektoren x und y verletzen die Linearität nicht! Es ist F(x + y) =\",sum_first,\"und F(x) + F(y) =\",sum_later)"
   ]
  },
  {
   "cell_type": "code",
   "execution_count": null,
   "metadata": {},
   "outputs": [],
   "source": [
    "# Überprüfung der Ergebnisse aus b)\n",
    "print(\"Die Abbildung F ist linear, also ist True korrekt. Ihre Antwort:\", linear, \"\\n\")"
   ]
  },
  {
   "attachments": {},
   "cell_type": "markdown",
   "metadata": {},
   "source": [
    "## Eigenschaften linearer Abbildungen <a id=\"2\"></a>\n",
    "\n",
    "Liegt eine lineare Abbildung $F \\colon V \\longrightarrow W$ vor, so kennen Sie die Untervektorräume $\\ker F$, der Kern von $F$ und $\\Ima F$ als das Bild von $F$.\n",
    "Im Folgenden sollen Sie beispielhaft Vektoren aus Bild und Kern bestimmen, weshalb nochmal daran erinnert sei, dass eine <i>Basis</i> eines Vektorraums $U \\neq \\lbrace 0\\rbrace $ ein linear unabhängiges Erzeugendensystem ist. \n"
   ]
  },
  {
   "attachments": {},
   "cell_type": "markdown",
   "metadata": {},
   "source": [
    "<div style= \"color: black;background-color: powderblue ;margin: 10 px auto; padding: 10px; border-radius: 10px\">\n",
    "    <p style=\"font-size:12pt; text-align:center; color:   black; background-color: lightskyblue ;margin: 10 px auto; padding: 10px; border-radius: 10px\" id=\"1\"><b>Aufgabe 2</b>  </p> \n",
    "    \n",
    "<b>Teilaufgabe a)</b> Schreiben Sie eine Funktion <code>linInd</code>, die drei Vektoren $ x_1,x_2,x_3 \\in \\mathbb{R}^3$ auf lineare Unabhängigkeit prüft. <hr>\n",
    "\n",
    "<b>Teilaufgabe b)</b>  Gegeben sei die lineare Abbildung $F \\colon \\mathbb{R}^2 \\longrightarrow  \\mathbb{R}^2, \\begin{pmatrix*}[r] x_1\\\\x_2\\end{pmatrix*}\\mapsto \\begin{pmatrix*}[c] -2x_1-2x_2\\\\x_1+x_2\\end{pmatrix*}$. Bestimmen Sie Vektoren $ v \\in \\ker F $ und $ w \\in \\Ima F $ und prüfen Sie mithilfe der Eingabe Ihr Ergebnis."
   ]
  },
  {
   "cell_type": "code",
   "execution_count": 8,
   "metadata": {},
   "outputs": [
    {
     "data": {
      "text/latex": [
       "Die Vektoren $x_1$, $x_2$ und $x_3$ sind linear unabhängig."
      ],
      "text/plain": [
       "<IPython.core.display.Latex object>"
      ]
     },
     "metadata": {},
     "output_type": "display_data"
    }
   ],
   "source": [
    "# Teilaufgabe 1\n",
    "\n",
    "\n",
    "def linInd(x_1, x_2, x_3):\n",
    "    A = np.array(\n",
    "        [x_1, x_2, x_3]\n",
    "    )  # Setzen sie die drei Vektoren als Matrix fest. Was ist dann zu tun?\n",
    "\n",
    "    ...\n",
    "\n",
    "    if ...:\n",
    "        return r\"Die Vektoren $x_1$, $x_2$ und $x_3$ sind linear unabhängig.\"\n",
    "    else:\n",
    "        return r\"Die Vektoren $x_1$, $x_2$ und $x_3$ sind linear abhängig.\"\n",
    "\n",
    "\n",
    "# Testen Sie ihre Funktion auf Richtigkeit!\n",
    "x_1 = np.array([0, 0, 0])\n",
    "x_2 = np.array([6, 2, 7])\n",
    "x_3 = np.array([1, 2, 1])\n",
    "\n",
    "result = linInd(x_1, x_2, x_3)\n",
    "display(Latex(result))"
   ]
  },
  {
   "cell_type": "code",
   "execution_count": null,
   "metadata": {},
   "outputs": [],
   "source": [
    "# Teilaufgabe 2\n",
    "\n",
    "def F(x):\n",
    "\n",
    "    x_1 = x[0]\n",
    "    x_2 = x[1]\n",
    "\n",
    "    return np.array([-2 * x_1 - 2 * x_2, x_1 + x_2])\n",
    "\n",
    "\n",
    "def checkImF(x):\n",
    "    c_1 = x[0] / (-2)\n",
    "    c_2 = x[1]\n",
    "\n",
    "    if c_1 == c_2:\n",
    "        return True\n",
    "\n",
    "# Legen Sie hier die Vektoren für v und w fest\n",
    "v = \n",
    "w = \n",
    "text = r\"\"\n",
    "\n",
    "# Die nachfolgenden Codezeilen müssen Sie nicht nachvollziehen!\n",
    "if np.array_equal(F(v), np.array([0, 0])):\n",
    "    text += r\"Der Vektor $v$ liegt im Kern.\"\n",
    "else:\n",
    "    text += r\"Der Vektor $v$ liegt <i>nicht</i> im Kern.\"\n",
    "\n",
    "if checkImF(w):\n",
    "    text += r\" Der Vektor $w$ liegt im Bild von $F$.\"\n",
    "else:\n",
    "    text += r\" Der Vektor $w$ liegt <i>nicht</i> im Bild von $F$.\"\n",
    "display(Latex(text))"
   ]
  },
  {
   "attachments": {},
   "cell_type": "markdown",
   "metadata": {},
   "source": [
    "## Der Zusammenhang zu Matrizen <a id=\"3\"></a>\n",
    "\n",
    "Sind für $V$ und $W$ erst einmal Basen festgelegt worden, so kann man die Abbildung auch mithilfe der Abbildungsmatrix $A$ verstehen, die spaltenweise die Bilder der Basisvektoren aus $V$ trägt. Das ermöglicht es, viele der bekannten Gesetze für Matrizen auf lineare Abbildungen zu übertragen:  Zum Beispiel bei der Addition $F+G$ oder Komposition $F \\circ G$ zweier linearer Abbildungen $F$ bzw. $G$ mit Abbildungsmatrizen $A$ bzw. $B$. ist die Abbildungsmatrix einfach die Summe der Matrizen $A+B$ oder das Produkt $BA$. Weiterhin ist $F$ invertierbar, wenn $A$ invertierbar ist. \n",
    "\n",
    "<div style= \"color: black;background-color: powderblue ;margin: 10 px auto; padding: 10px; border-radius: 10px\">\n",
    "    <p style=\"font-size:12pt; text-align:center; color:   black; background-color: lightskyblue ;margin: 10 px auto; padding: 10px; border-radius: 10px\" id=\"1\"><b>Aufgabe 3</b>  </p> \n",
    "    \n",
    "<b>Teilaufgabe a)</b> Gegeben sei eine lineare Funktion $F \\colon \\Reals^2 \\longrightarrow \\Reals^3$. Schreiben Sie eine Funktion <code>AbbMat</code>, die die Abbildungsmatrix von $F$ bezüglich der Standardbasis zurückgibt. <hr>\n",
    "\n",
    "<b>Teilaufgabe b)</b> Die lineare Abbildung $F \\colon \\Reals^2 \\longrightarrow \\Reals^2, \\begin{pmatrix*}[r] x_1\\\\x_2\\end{pmatrix*}\\mapsto \\begin{pmatrix*}[r] 2 & 5 \\\\ 1 & 3\\end{pmatrix*}\\cdot \\begin{pmatrix*}[r] x_1\\\\x_2\\end{pmatrix*}$ ist invertierbar. Geben Sie die Abbildungsmatrix der Inversen $F^{-1}$ an und überprüfen Sie Ihre Eingabe."
   ]
  },
  {
   "cell_type": "code",
   "execution_count": null,
   "metadata": {},
   "outputs": [],
   "source": [
    "# Teilaufgabe a)\n",
    "\n",
    "def AbbMat(F):\n",
    "    ... # Schreiben Sie hier Ihren Code rein"
   ]
  },
  {
   "cell_type": "code",
   "execution_count": 12,
   "metadata": {},
   "outputs": [
    {
     "name": "stdout",
     "output_type": "stream",
     "text": [
      "False\n"
     ]
    }
   ],
   "source": [
    "# Teilaufgabe b)\n",
    "matrix_F = np.array([[2, 5], [1, 3]])\n",
    "matrix_F_inv = np.array([[1, 0], [0, 1]])\n",
    "\n",
    "# Sie müssen die nachfolgende Codezeilen nicht nachvollziehen!\n",
    "if np.array_equal(matrix_F_inv, np.linalg.inv(matrix_F)):\n",
    "    print(True)\n",
    "else:\n",
    "    print(False)"
   ]
  },
  {
   "attachments": {},
   "cell_type": "markdown",
   "metadata": {},
   "source": [
    "## Beispiele linearer Abbildungen in der Ebene $\\mathbb{R}^2$ <a id=\"4\"></a>\n",
    "\n",
    "Im Folgenden sollen Sie verschiedene Beispiele linearer Abbildungen im $\\Reals^2$ kennenlernen.\n",
    "Betrachten Sie zum Anfang die lineare Abbildung $F$, dessen Bilder der Standardbasis $e_1 = \\begin{pmatrix*}[c] 1\\\\0\\end{pmatrix*}, e_2 = \\begin{pmatrix*}[c] 0\\\\1\\end{pmatrix*}$ gegeben sind durch $$ F(e_1) = \\begin{pmatrix*}[c] 2\\\\0\\end{pmatrix*}, \\quad F(e_2) = \\begin{pmatrix*}[c] 0\\\\1\\end{pmatrix*}.$$ Was sagt Ihnen das über die Abbildung $F$ aus? Was passiert mit Figuren in der Ebene unter der Abbildung $F$? Denken Sie zunächst darüber nach, bevor Sie die folgende Code-Zelle ausführen."
   ]
  },
  {
   "cell_type": "code",
   "execution_count": 3,
   "metadata": {},
   "outputs": [
    {
     "data": {
      "text/latex": [
       "$F \\colon \\Reals^2 \\longrightarrow \\Reals^2, \\quad F(e_1) = \\begin{pmatrix*}[c] 2\\\\0\\end{pmatrix*}, \\quad F(e_2) = \\begin{pmatrix*}[c] 0\\\\1\\end{pmatrix*}$. Der erste Basisvektor $e_1$ wird also in Richtung $x_1$-Achse verdoppelt. Entsprechend wird unter der linearen Abbildung $F$ also <i>jede</i> Figur horizontal um den Faktor 2 gestreckt, konkret wird das rote Parallelogramm als Figur auf das Blaue abgebildet."
      ],
      "text/plain": [
       "<IPython.core.display.Latex object>"
      ]
     },
     "metadata": {},
     "output_type": "display_data"
    },
    {
     "data": {
      "text/latex": [
       "Insgesamt liegt die Abbildungsmatrix $A = \\begin{pmatrix*}[c] 2 & 0 \\\\0 & 1\\end{pmatrix*}$ vor."
      ],
      "text/plain": [
       "<IPython.core.display.Latex object>"
      ]
     },
     "metadata": {},
     "output_type": "display_data"
    },
    {
     "data": {
      "image/png": "[encoded data removed]",
      "text/plain": [
       "<Figure size 640x480 with 1 Axes>"
      ]
     },
     "metadata": {},
     "output_type": "display_data"
    }
   ],
   "source": [
    "# Code-Zelle zur Visualisierung ausführen\n",
    "text = r\"$F \\colon \\Reals^2 \\longrightarrow \\Reals^2, \\quad F(e_1) = \\begin{pmatrix*}[c] 2\\\\0\\end{pmatrix*}, \\quad F(e_2) = \\begin{pmatrix*}[c] 0\\\\1\\end{pmatrix*}$. Der erste Basisvektor $e_1$ wird also in Richtung $x_1$-Achse verdoppelt. Entsprechend wird unter der linearen Abbildung $F$ also <i>jede</i> Figur horizontal um den Faktor 2 gestreckt, konkret wird das rote Parallelogramm als Figur auf das Blaue abgebildet.\"\n",
    "display(Latex(text))\n",
    "\n",
    "punkteFigur = np.array([[0, 0], [0.5, 0.5], [0.5, 1.5], [0, 1], [0, 0]])\n",
    "punkteFigur = punkteFigur.transpose()\n",
    "punkteFigur\n",
    "x1 = punkteFigur[0, :]\n",
    "x2 = punkteFigur[1, :]\n",
    "\n",
    "A = np.array([[2, 0], [0, 1]])\n",
    "bildpunkteFigur = A @ punkteFigur\n",
    "x_F = bildpunkteFigur[0, :]\n",
    "y_F = bildpunkteFigur[1, :]\n",
    "\n",
    "fig, ax = plt.subplots()\n",
    "\n",
    "ax.set_xlabel(\"$x_1$\", usetex=False, fontsize=18)\n",
    "ax.set_ylabel(\"$x_2$\", usetex=False, fontsize=18, rotation=0)\n",
    "ax.plot(x1, x2, \"r\")\n",
    "ax.plot(x_F, y_F, \"b\")\n",
    "ax.plot(x1, x2, \"r\", ls=\"dashed\")\n",
    "ax.plot(x_F, y_F, \"b\")\n",
    "ax.axvline(x=0, color=\"k\", ls=\":\")\n",
    "ax.axhline(y=0, color=\"k\", ls=\":\")\n",
    "ax.grid(True)\n",
    "ax.axis([-0.5, 2, -0.5, 2])\n",
    "ax.set_aspect(\"equal\")\n",
    "ax.set_title(\"Horizontale Streckung\")\n",
    "\n",
    "text = r\"Insgesamt liegt die Abbildungsmatrix $A = \\begin{pmatrix*}[c] 2 & 0 \\\\0 & 1\\end{pmatrix*}$ vor.\"\n",
    "display(Latex(text))"
   ]
  },
  {
   "attachments": {},
   "cell_type": "markdown",
   "metadata": {},
   "source": [
    "<div style= \"color: black;background-color: powderblue ;margin: 10 px auto; padding: 10px; border-radius: 10px\">\n",
    "    <p style=\"font-size:12pt; text-align:center; color:   black; background-color: lightskyblue ;margin: 10 px auto; padding: 10px; border-radius: 10px\" id=\"1\"><b>Aufgabe 4</b>  </p> \n",
    "\n",
    "<b> Horizontale und vertikale Streckung </b><br><br>\n",
    "Nun sollen Sie sich eine lineare Abbildung zusammenstellen, die einen jeden Vektor $v$ horizontal um einen Faktor $k_1 \\in \\Reals $ und vertikal um einen Faktor $k_2 \\in \\Reals $ streckt. Gehen Sie dabei wie folgt vor:\n",
    "\n",
    "<b>Teilaufgabe a)</b> Schreiben Sie zunächst eine Funktion <code>scale</code>, die besagte lineare Abbildung darstellen soll. Ihr werden die Streckparameter $k_1$ und $k_2$ übergeben, worauf die Abbildungsmatrix $A(k_1,k_2)$ zurückgegeben wird. <hr>\n",
    "\n",
    "<b>Teilaufgabe b)</b> Ergänzen Sie anschließend die Funktion <code>application</code> in der darauffolgenden Code-Zelle, die die ebene Figur eines Fisches unter der linearen Abbildung abändert. Nutzen Sie die dabei erzeugten Slider, um zu überprüfen, ob die Figur entlang den Achsen entsprechend gestreckt wird. <hr>\n",
    "\n",
    "<b>Teilaufgabe c)</b> Welcher Effekt tritt zusätzlich auf, wenn ein Streckfaktor negativ ist? Notieren Sie Ihre Beobachtungen."
   ]
  },
  {
   "cell_type": "code",
   "execution_count": 9,
   "metadata": {},
   "outputs": [],
   "source": [
    "def scale(k1, k2):\n",
    "    ... # Schreiben Sie hier Ihren Code hin"
   ]
  },
  {
   "cell_type": "code",
   "execution_count": null,
   "metadata": {},
   "outputs": [],
   "source": [
    "# Teilaufgabe b) Führen Sie diese Zelle aus, um die Funktion scale() auf RIchtigkeit zu überprüfen\n",
    "def application(k1, k2):\n",
    "    fig, ax = plt.subplots()\n",
    "    x_points = np.array([0, 1, 2.5, 3, 3.5, 3.5, 3, 2.5, 1, 0])\n",
    "    y_points = np.array([0, 1, 1, 0, 1, -1, 0, -1, -1, 0])\n",
    "\n",
    "    matrix = scale(k1, k2)\n",
    "    x_points_scale, y_points_scale = matrix.dot([x_points, y_points])\n",
    "    size = len(x_points)\n",
    "    for i in range(size):\n",
    "        ax.plot(\n",
    "            [x_points_scale[i], x_points_scale[(i + 1) % size]],\n",
    "            [y_points_scale[i], y_points_scale[(i + 1) % size]],\n",
    "            linewidth=0.7,\n",
    "        )\n",
    "\n",
    "    plt.ylim([-5, 5])\n",
    "    plt.xlim([-5, 10])\n",
    "    ax.axvline(x=0, color=\"k\", ls=\":\")\n",
    "    ax.axhline(y=0, color=\"k\", ls=\":\")\n",
    "    print(\"Die Abbildungsmatrix ist A =\\n\", np.array([[k1, 0], [0, k2]]))\n",
    "    plt.show()\n",
    "\n",
    "# Die nachfolgenden Codezeilen müssen Sie nicht nachvollziehen!\n",
    "display(\n",
    "    Latex(\n",
    "        r\"Die Abbildungsmatrix ist $ A = \\begin{pmatrix} k_1  & 0 \\\\ 0 & k_2\\end{pmatrix}$\"\n",
    "    )\n",
    ")\n",
    "interactive(\n",
    "    application,\n",
    "    k1=(\n",
    "        -1.25,\n",
    "        2.75,\n",
    "        0.25,\n",
    "    ),\n",
    "    k2=(\n",
    "        -1,\n",
    "        4,\n",
    "        0.25,\n",
    "    ),\n",
    ")"
   ]
  },
  {
   "attachments": {},
   "cell_type": "markdown",
   "metadata": {},
   "source": [
    "### Scherung entlang der $x_1$-Achse <a id=\"3.1\"></a>\n",
    "\n",
    "Auch die Scherung in der Ebene ist elementar anhand der Bilder der Standardbasisvektoren zu verstehen. Führen Sie zunächst die Code-Zelle aus."
   ]
  },
  {
   "cell_type": "code",
   "execution_count": 11,
   "metadata": {},
   "outputs": [
    {
     "data": {
      "text/plain": [
       "Text(0.5, 1.0, 'Scherung entlang der $x_1$-Achse')"
      ]
     },
     "execution_count": 11,
     "metadata": {},
     "output_type": "execute_result"
    },
    {
     "data": {
      "image/png": "[encoded data removed]",
      "text/plain": [
       "<Figure size 640x480 with 1 Axes>"
      ]
     },
     "metadata": {},
     "output_type": "display_data"
    }
   ],
   "source": [
    "# Code-Zelle ausführen\n",
    "\n",
    "coords = np.array([[0, 0], [1, 0], [1, 1], [0, 1], [0, 0]])\n",
    "coords = coords.transpose()\n",
    "coords\n",
    "x1 = coords[0, :]\n",
    "y = coords[1, :]\n",
    "\n",
    "S = np.array([[1, 1.5], [0, 1]])\n",
    "S_coords = S @ coords\n",
    "\n",
    "x_D = S_coords[0, :]\n",
    "y_D = S_coords[1, :]\n",
    "\n",
    "fig, ax = plt.subplots()\n",
    "ax.plot(x1, y, \"r\")\n",
    "ax.plot(x_D, y_D, \"b\")\n",
    "ax.plot(x1, y, \"r\", ls=\"--\")\n",
    "ax.plot(x_D, y_D, \"b\")\n",
    "ax.axvline(x=0, color=\"k\", ls=\":\")\n",
    "ax.axhline(y=0, color=\"k\", ls=\":\")\n",
    "ax.grid(True)\n",
    "ax.axis([-1, 4, -1, 2])\n",
    "ax.set_aspect(\"equal\")\n",
    "ax.set_title(\"Scherung entlang der $x_1$-Achse\", usetex=False, fontsize=18)"
   ]
  },
  {
   "attachments": {},
   "cell_type": "markdown",
   "metadata": {},
   "source": [
    "Bei einer Scherung $S$ bleibt jeder Punkt entlang der Scherungsachse unverändert und jeder andere Punkt wird um einen festen Winkel $\\alpha$ (gemessen zum Lot) parallel zur Scherungsachse verschoben. In der nächsten Abbildung ist dies.\n",
    "\n",
    "<center><img src=\"Scherung.png\"  width=\"40%\" height=\"40%\"></center><br>\n",
    "\n",
    "\n",
    "<div style= \"color: black;background-color: powderblue ;margin: 10 px auto; padding: 10px; border-radius: 10px\">\n",
    "    <p style=\"font-size:12pt; text-align:center; color:   black; background-color: lightskyblue ;margin: 10 px auto; padding: 10px; border-radius: 10px\" id=\"1\"><b>Aufgabe 6</b>  </p> \n",
    "\n",
    "<b>Teilaufgabe a)</b> Sie sollen eine Scherung $S$ entlang der $x_1$-Achse zu einem festen Winkel $\\alpha \\in (0,\\frac{\\pi}{2})$ als lineare Abbildung konstruieren. Leiten Sie sich anhand der Skizze her, wie die Abbildungsmatrix auszusehen hat. Anschließend schreiben Sie eine Funktion <code>shear</code>, die einen beliebigen Punkt $(x_1, x_2)$ unter $S$ abbildet. Testen Sie anschließend Ihre Funktion anhand der Punkte $(1,1), (2,5)$ und $(3,0)$ und dem Winkel $\\alpha = \\frac{\\pi}{4}.$ <br><br>\n",
    "Zur Kontrolle: $S((1,1)) = (2,1), \\; S((2,5))= (7,5) \\;$ und $\\; S((3,0)) = (3,0)$. <hr>\n",
    "\n",
    "<b>Teilaufgabe a)</b> Ergänzen Sie die Code-Zelle im zweiten Teil, sodass wie zuvor die ebene Figur eines Fischs entlang der $x_1$-Achse um $\\alpha$ geschert wird."
   ]
  },
  {
   "cell_type": "code",
   "execution_count": 12,
   "metadata": {},
   "outputs": [
    {
     "data": {
      "text/latex": [
       "Der Punkt $P = (3, 0)$ wird unter der Scherung $S$ auf den Punkt  $P^\\prime = (3.0, 0.0)$ abgebildet"
      ],
      "text/plain": [
       "<IPython.core.display.Latex object>"
      ]
     },
     "metadata": {},
     "output_type": "display_data"
    }
   ],
   "source": [
    "# Teilaufgabe 1\n",
    "def shear(x1, x2, alpha):\n",
    "    v = # legen Sie hier einen Vektor v fest mit Koordinaten x1, x2\n",
    "\n",
    "    S = # Wie lautet die Matrix der Scherung?\n",
    "\n",
    "    return ... # Geben Sie hier den Bildvektor zurück\n",
    "\n",
    "\n",
    "# Testen Sie hier ihre FUnktion shear()\n",
    "P = (3, 0)\n",
    "\n",
    "result = shear(P[0], P[1], np.pi / 4)\n",
    "result = np.round(result, 5)\n",
    "\n",
    "text = r\"Der Punkt $P = ({P1}, {P2})$ wird unter der Scherung $S$ auf den Punkt  $P^\\prime = ({P1_S}, {P2_S})$ abgebildet\".format(\n",
    "    P1=P[0], P2=P[1], P1_S=result[0], P2_S=result[1]\n",
    ")\n",
    "display(Latex(text))"
   ]
  },
  {
   "cell_type": "code",
   "execution_count": null,
   "metadata": {},
   "outputs": [],
   "source": [
    "# Teilaufgabe 2\n",
    "\n",
    "\n",
    "def application(alpha):\n",
    "    fig, ax = plt.subplots()  \n",
    "    x_points = np.array([0, 1, 2.5, 3, 3.5, 3.5, 3, 2.5, 1, 0])\n",
    "    y_points = np.array([0, 1, 1, 0, 1, -1, 0, -1, -1, 0])\n",
    "\n",
    "    x_points_S, y_points_S = ... # Wie müssen die Bildpunkte aussehen?\n",
    "\n",
    "    size = len(...)\n",
    "\n",
    "    for i in ... :\n",
    "        ax.plot(\n",
    "            [x_points_S[i], x_points_S[(i + 1) % size]],\n",
    "            [y_points_S[i], y_points_S[(i + 1) % size]],\n",
    "            linewidth=1.8,\n",
    "        )\n",
    "\n",
    "    plt.ylim([-2, 3])\n",
    "    plt.xlim([-2, 8])\n",
    "    ax.axvline(x=0, color=\"k\", ls=\"dashed\")\n",
    "    ax.axhline(y=0, color=\"k\", ls=\"dashed\")\n",
    "    print(\"Der Scherungswinkel ist alpha = {a} mit der Abbildungsmatrix A =\\n \".format(a=alpha),\n",
    "        np.array([[..., ...], [..., ...]]), # Wie lauten die EInträge der Schermatrix? Beziehen Sie sich auf Teilaufgbae a)\n",
    "    )\n",
    "    plt.show()\n",
    "\n",
    "\n",
    "display(\n",
    "    Latex(\n",
    "        r\"Der Scherungswinkel $\\alpha$ gibt die Abbildungsmatrix  $A = \\begin{pmatrix} 1  & \\tan(\\alpha) \\\\ 0 & 1\\end{pmatrix}$\"\n",
    "    )\n",
    ")\n",
    "interactive(application, alpha=FloatSlider(min=0, max=np.pi / 2, step=0.01, value=0))"
   ]
  },
  {
   "attachments": {},
   "cell_type": "markdown",
   "metadata": {},
   "source": [
    "### Drehung um einen Winkel $\\theta$ <a id=\"3.2\"></a>\n",
    "\n",
    "In der Methode zur Scherung sind Sie schon auf die Drehung aufmerksam geworden. In diesem Abschnitt sollen Sie sich ebenfalls die Drehung eines Punktes um einen Winkel $\\theta$ entgegen des Uhrzeigersinns herleiten, die, wie sich herausstellt, eine lineare Abbildung darstellt. Nutzen Sie die Code-Zelle, um die Abbildungsmatrix der Drehung zu erarbeiten."
   ]
  },
  {
   "cell_type": "code",
   "execution_count": 6,
   "metadata": {},
   "outputs": [
    {
     "data": {
      "text/plain": [
       "Text(0.5, 1.0, 'Drehung um den Winkel $\\\\theta$')"
      ]
     },
     "execution_count": 6,
     "metadata": {},
     "output_type": "execute_result"
    },
    {
     "data": {
      "image/png": "[encoded data removed]",
      "text/plain": [
       "<Figure size 640x480 with 1 Axes>"
      ]
     },
     "metadata": {},
     "output_type": "display_data"
    }
   ],
   "source": [
    "# Code-Zelle ausführen...\n",
    "\n",
    "coords = np.array([[2, 0], [3, 0], [3, 1], [2, 0]])\n",
    "coords = coords.transpose()\n",
    "coords\n",
    "x1 = coords[0, :]\n",
    "y = coords[1, :]\n",
    "\n",
    "S = np.array([[np.sqrt(2) / 2, -np.sqrt(2) / 2], [np.sqrt(2) / 2, np.sqrt(2) / 2]])\n",
    "S_coords = S @ coords\n",
    "\n",
    "x_D = S_coords[0, :]\n",
    "y_D = S_coords[1, :]\n",
    "\n",
    "\n",
    "fig, ax = plt.subplots()\n",
    "ax.plot(x1, y, \"r\")\n",
    "ax.plot(x_D, y_D, \"b\")\n",
    "ax.plot(x1, y, \"r\", ls=\"--\")\n",
    "ax.plot(x_D, y_D, \"b\")\n",
    "\n",
    "\n",
    "arc_angles = np.linspace(0 * np.pi, np.pi / 4, 20)\n",
    "arc_xs = np.cos(arc_angles)\n",
    "arc_ys = np.sin(arc_angles)\n",
    "\n",
    "plt.plot(arc_xs, arc_ys, color=\"green\", lw=2)\n",
    "ax.axvline(x=0, color=\"k\", ls=\":\")\n",
    "ax.axhline(y=0, color=\"k\", ls=\":\")\n",
    "options = {\"head_width\": 0.07, \"head_length\": 0.15, \"length_includes_head\": True}\n",
    "ax.arrow(0, 0, 2, 0, fc=\"g\", ec=\"g\", **options)\n",
    "ax.arrow(0, 0, np.sqrt(2), np.sqrt(2), fc=\"g\", ec=\"g\", **options)\n",
    "ax.text(0.6, 0.15, \"$\\\\theta$\", usetex=False, fontsize=24)\n",
    "ax.grid(True)\n",
    "ax.axis([-1, 4, -1, 3])\n",
    "ax.set_aspect(\"equal\")\n",
    "ax.set_title(\"Drehung um den Winkel $\\\\theta$\", usetex=False, fontsize=18)"
   ]
  },
  {
   "attachments": {},
   "cell_type": "markdown",
   "metadata": {},
   "source": [
    "Implementieren Sie nun die Drehung in Python:\n",
    "\n",
    "<div style= \"color: black;background-color: powderblue ;margin: 10 px auto; padding: 10px; border-radius: 10px\">\n",
    "    <p style=\"font-size:12pt; text-align:center; color:   black; background-color: lightskyblue ;margin: 10 px auto; padding: 10px; border-radius: 10px\" id=\"1\"><b>Aufgabe 7</b>  </p> \n",
    "\n",
    "<b>Teilaufgabe a)</b> Schreiben Sie eine Methode <code>rotate</code>, die einen Vektor $v \\in \\Reals^2$ um den Winkel $\\theta \\in \\left[0, 2\\pi \\right)$ dreht. <hr>\n",
    "\n",
    "<b>Teilaufgabe b)</b>  Ergänzen Sie die Code-Zellen in der Methode <code>application</code> an den entsprechenden Stellen, sodass auch der Fisch als ebene Figur um $\\theta$ gedreht wird.\n"
   ]
  },
  {
   "cell_type": "code",
   "execution_count": 15,
   "metadata": {},
   "outputs": [],
   "source": [
    "def rotate(v, theta):\n",
    "    ... # Ergänzen Sie hier Ihren Code"
   ]
  },
  {
   "cell_type": "code",
   "execution_count": null,
   "metadata": {},
   "outputs": [],
   "source": [
    "def application(theta):\n",
    "    fig, ax = plt.subplots() \n",
    "    x_points = np.array([0, 1, 2.5, 3, 3.5, 3.5, 3, 2.5, 1, 0])\n",
    "    y_points = np.array([0, 1, 1, 0, 1, -1, 0, -1, -1, 0])\n",
    "    \n",
    "    bildpunkte = ... # Wie lauten Bildpunkte?\n",
    "\n",
    "    x_points, y_points = ... # Extrahieren Sie die Bildpunkte und speichern Sie diese in x_points, y_points\n",
    "\n",
    "    size = len(...) # Durchlaufen Sie mit size geschickt die Bildpunkte durch\n",
    "\n",
    "    for i in ... :\n",
    "        ax.plot(\n",
    "            [x_points[i], x_points[(i + 1) % size]],\n",
    "            [y_points[i], y_points[(i + 1) % size]],\n",
    "            linewidth=1.8,\n",
    "        )\n",
    "\n",
    "    plt.ylim([-5, 5])\n",
    "    plt.xlim([-5, 5])\n",
    "    ax.axvline(x=0, color=\"k\", ls=\"dashed\")\n",
    "    ax.axhline(y=0, color=\"k\", ls=\"dashed\")\n",
    "    print(\n",
    "        \"Die Drehmatrix lautet  A = \\n\",\n",
    "        np.array(\n",
    "            [[np.cos(theta), (-1) * np.sin(theta)], [np.sin(theta), np.cos(theta)]]\n",
    "        ),\n",
    "    )\n",
    "    plt.show()\n",
    "\n",
    "\n",
    "display(\n",
    "    Latex(\n",
    "        r\"Die Drehmatrix lautet $A = \\begin{pmatrix*}[r] \\cos(\\theta)  & -\\sin(\\theta) \\\\ \\sin(\\theta) & \\cos(\\theta) \\end{pmatrix*}$\"\n",
    "    )\n",
    ")\n",
    "interactive(application, theta=(0, 2 * np.pi, 0.01))"
   ]
  },
  {
   "attachments": {},
   "cell_type": "markdown",
   "metadata": {},
   "source": [
    "### Verschiebung in Richtung eines Vektors $v \\neq 0$ <a id=\"3.3\"></a>\n",
    "\n",
    "Es mag zunächst verblüffen, warum man bei einer Verschiebung (Translation) von einer linearen Abbildung spricht. Schauen Sie sich zunächst die Translation visuell an. Die ebene Figur, die den Buchstaben L darstellt, wird in Richtung des Vektors $ v = \\begin{pmatrix*}[c] 3\\\\1\\end{pmatrix*}$ verschoben."
   ]
  },
  {
   "cell_type": "code",
   "execution_count": 7,
   "metadata": {},
   "outputs": [
    {
     "data": {
      "text/plain": [
       "Text(0.5, 1.0, 'Translation')"
      ]
     },
     "execution_count": 7,
     "metadata": {},
     "output_type": "execute_result"
    },
    {
     "data": {
      "image/png": "[encoded data removed]",
      "text/plain": [
       "<Figure size 640x480 with 1 Axes>"
      ]
     },
     "metadata": {},
     "output_type": "display_data"
    }
   ],
   "source": [
    "# Führen Sie diese Zelle aus\n",
    "\n",
    "coords = np.array([[0, 0], [0, 3], [1, 3], [1, 1], [2, 1], [2, 0], [0, 0]])\n",
    "coords = coords.transpose()\n",
    "\n",
    "x1 = coords[0, :]\n",
    "x2 = coords[1, :]\n",
    "\n",
    "x_translated = np.copy(x1)\n",
    "y_translated = np.copy(x2)\n",
    "\n",
    "for i in range(x1.shape[0]):\n",
    "    x_translated[i] += 3\n",
    "    y_translated[i] += 1\n",
    "\n",
    "\n",
    "fig, ax = plt.subplots()\n",
    "\n",
    "ax.set_xlabel(\"$x_1$\", usetex=False, fontsize=18)\n",
    "ax.set_ylabel(\"$x_2$\", usetex=False, fontsize=18, rotation=0)\n",
    "ax.plot(x1, x2, \"r\")\n",
    "ax.plot(x_translated, y_translated, \"b\")\n",
    "options = {\"head_width\": 0.07, \"head_length\": 0.15, \"length_includes_head\": True}\n",
    "ax.arrow(0, 0, 3, 1, fc=\"g\", ec=\"g\", **options)\n",
    "ax.arrow(1, 1, 3, 1, fc=\"g\", ec=\"g\", **options)\n",
    "ax.arrow(0, 3, 3, 1, fc=\"g\", ec=\"g\", **options)\n",
    "ax.text(2, 3.3, \"$v$\", usetex=False, fontsize=18)\n",
    "ax.plot(x1, x2, \"r\", ls=\"--\")\n",
    "ax.plot(x_translated, y_translated, \"b\")\n",
    "ax.axvline(x=0, color=\"k\", ls=\":\")\n",
    "ax.axhline(y=0, color=\"k\", ls=\":\")\n",
    "ax.grid(True)\n",
    "ax.axis([-1, 6, -1, 6])\n",
    "ax.set_aspect(\"equal\")\n",
    "ax.set_title(\"Translation\")"
   ]
  },
  {
   "attachments": {},
   "cell_type": "markdown",
   "metadata": {},
   "source": [
    "Bei einer Verschiebung um einen beliebigen Vektor $v \\neq 0 \\in \\Reals^2$ kann es sich aber um keine lineare Abbildung handeln, denn wäre $F$ solch eine, so müsste $$ 0 = F(0) = 0 + v = v \\neq 0$$ gelten, was einen Widerspruch erzeugt. Wie ist eine Verschiebung dann zu verstehen? Nun, dafür muss man einen kleinen Trick verwenden. Damit eine Verschiebung in der Ebene als lineare Abbildung Sinn ergibt, müssen Sie sich die Ebene des $\\Reals ^2$ in dem $\\Reals^3$ vorstellen, z.B. als parallele $x_1-x_2-$ Ebene. Jeder Punkt $(x_1,x_2) \\in \\Reals^2$ ist dann zu verstehen als $(x_1,x_2,1) \\in \\Reals^3$, wobei insbesondere $x_3 = 1$ zu beachten ist. Dann sei eine lineare Abbildung  $ F \\colon \\Reals^3 \\longrightarrow \\Reals^3 $ definiert durch \n",
    "\n",
    "$$ F_{trl}(x_1,x_2,x_3) = \\begin{pmatrix*}[r] 1 & 0 & 3 \\\\ 0 & 1 & 1 \\\\ 0 & 0 & 1 \\end{pmatrix*} \\cdot \\begin{pmatrix*}[r] x_1\\\\x_2\\\\x_3 \\end{pmatrix*}.$$\n",
    "\n",
    "Was können Sie beobachten, wenn der Punkt $(x_1,x_2,1)$ unter $F$ abgebildet wird? Nutzen Sie das Ergebnis aus, um die folgende Aufgabe zu bearbeiten.\n",
    "\n",
    "<div style= \"color: black;background-color: powderblue ;margin: 10 px auto; padding: 10px; border-radius: 10px\">\n",
    "    <p style=\"font-size:12pt; text-align:center; color:   black; background-color: lightskyblue ;margin: 10 px auto; padding: 10px; border-radius: 10px\" id=\"1\"><b>Aufgabe 5</b>  </p> \n",
    "\n",
    "Schreiben Sie eine Funktion <code>translate</code>, die einen Punkt $(x_1,x_2) \\in \\Reals^2$ um einen Vektor $v \\neq 0$ verschiebt, unter der Bedingung, dass Sie nicht trivial die Komponenten des Punktes abändern. Sie müssen auf die lineare Abbildung $F_{trl}$ zurückgreifen, die zuvor genannt wurde."
   ]
  },
  {
   "cell_type": "code",
   "execution_count": null,
   "metadata": {},
   "outputs": [],
   "source": [
    "def translate(x1, x2, v):\n",
    "    ... # Ergänzen Sie hier Ihren Code\n",
    "\n",
    "\n",
    "# Testen Sie anschließend Ihre FUnktion translate() aus!\n",
    "\n",
    "(x1, x2) = (5, 9)\n",
    "v = np.array([3, 1])\n",
    "result = translate(x1, x2, v)\n",
    "\n",
    "text = r\"Der Punkt $(x_1,x_2) =({x},{y})$ wird um den Vektor $v = \\begin{{pmatrix*}}[c] {v1} \\\\ {v2} \\end{{pmatrix*}}$ auf den Punkt $({x_neu},{y_neu})$ verschoben.\".format(\n",
    "    x=x1, y=x2, v1=v[0], v2=v[1], x_neu=result[0], y_neu=result[1]\n",
    ")\n",
    "display(Latex(text))"
   ]
  },
  {
   "attachments": {},
   "cell_type": "markdown",
   "metadata": {},
   "source": [
    "## Referenzen\n",
    "\n",
    "https://bvanderlei.github.io/jupyter-guide-to-linear-algebra/Matrix_Algebra.html"
   ]
  }
 ],
 "metadata": {
  "kernelspec": {
   "display_name": "base",
   "language": "python",
   "name": "python3"
  },
  "language_info": {
   "codemirror_mode": {
    "name": "ipython",
    "version": 3
   },
   "file_extension": ".py",
   "mimetype": "text/x-python",
   "name": "python",
   "nbconvert_exporter": "python",
   "pygments_lexer": "ipython3",
   "version": "3.10.13"
  },
  "orig_nbformat": 4
 },
 "nbformat": 4,
 "nbformat_minor": 2
}
