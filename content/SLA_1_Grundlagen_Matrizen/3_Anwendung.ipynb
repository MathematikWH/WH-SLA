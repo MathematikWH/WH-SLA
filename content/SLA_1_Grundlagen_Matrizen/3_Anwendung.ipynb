{
 "cells": [
  {
   "attachments": {},
   "cell_type": "markdown",
   "metadata": {},
   "source": [
    "# Anwendung"
   ]
  },
  {
   "attachments": {},
   "cell_type": "markdown",
   "metadata": {},
   "source": [
    "## Lineare Regression"
   ]
  },
  {
   "attachments": {},
   "cell_type": "markdown",
   "metadata": {},
   "source": [
    "Lineare Regression ist eine statistische Methode zur Analyse von Beziehungen zwischen zwei oder mehreren Variablen, die eine lineare Beziehung aufweisen. Das Ziel der linearen Regression besteht darin, eine mathematische Gleichung zu finden, die den Zusammenhang zwischen einer abhängigen Variable (auch als Antwortvariable bezeichnet) und einer oder mehreren unabhängigen Variablen (auch als erklärende Variablen bezeichnet) beschreibt.\n",
    "\n",
    "In der einfachsten Form der linearen Regression wird eine lineare Gleichung verwendet, um den Zusammenhang zwischen einer abhängigen Variablen $Y$ und einer einzigen unabhängigen Variablen $X$ zu modellieren: $Y = a + bX$ . Hierbei repräsentiert $b$ die Steigung der Linie (d.h. die Änderung in $Y$ pro Einheit $X$) und $a$ den y-Achsenabschnitt der Linie (d.h. den Wert von $Y$, wenn $X$ gleich Null ist)."
   ]
  },
  {
   "cell_type": "code",
   "execution_count": 2,
   "metadata": {},
   "outputs": [],
   "source": [
    "%pip install -q ipywidgets\n",
    "import numpy as np\n",
    "import pandas as pd\n",
    "import matplotlib.pyplot as plt\n",
    "from mpl_toolkits.mplot3d import Axes3D\n",
    "from matplotlib.animation import FuncAnimation\n",
    "from ipywidgets import interactive, widgets,interact_manual,interact,FloatSlider,Dropdown\n",
    "import warnings\n",
    "warnings.filterwarnings(\"ignore\")"
   ]
  },
  {
   "attachments": {},
   "cell_type": "markdown",
   "metadata": {},
   "source": [
    "Das Ziel der linearen Regression ist es eine \"optimale\" Gerade durch eine Menge an Datenpunkten zu modellieren, die dann den Datensatz repräsentieren soll."
   ]
  },
  {
   "cell_type": "code",
   "execution_count": 55,
   "metadata": {},
   "outputs": [],
   "source": [
    "x = [1, 2, 3, 4]\n",
    "y = [1, 3, 3, 5]"
   ]
  },
  {
   "attachments": {},
   "cell_type": "markdown",
   "metadata": {},
   "source": [
    "Für die vier Datenpunkte würde dies so aussehen:"
   ]
  },
  {
   "cell_type": "code",
   "execution_count": 56,
   "metadata": {},
   "outputs": [
    {
     "data": {
      "text/plain": [
       "[<matplotlib.lines.Line2D at 0x7fbf4e76e7c0>]"
      ]
     },
     "execution_count": 56,
     "metadata": {},
     "output_type": "execute_result"
    },
    {
     "data": {
      "image/png": "[encoded data removed]",
      "text/plain": [
       "<Figure size 432x288 with 1 Axes>"
      ]
     },
     "metadata": {
      "needs_background": "light"
     },
     "output_type": "display_data"
    }
   ],
   "source": [
    "c = np.linspace(0,4,4)\n",
    "plt.scatter(x,y)\n",
    "plt.plot(x,1.2 * c, color=\"r\",linestyle='dashed')"
   ]
  },
  {
   "attachments": {},
   "cell_type": "markdown",
   "metadata": {},
   "source": [
    "Hierbei stellt sich die Frage, was diese Gerade zur \"optimalen\" Gerade macht. Man versucht die Gerade so in die Punkte zu legen, so dass der Abstand zwischen den Punkten und der Gerade minimiert wird. Dieser Abstand wird hier $\\epsilon$ genannt und ist im unteren Plot jeweils die gelbe Linie."
   ]
  },
  {
   "cell_type": "code",
   "execution_count": 57,
   "metadata": {},
   "outputs": [
    {
     "data": {
      "image/png": "[encoded data removed]",
      "text/plain": [
       "<Figure size 432x288 with 1 Axes>"
      ]
     },
     "metadata": {
      "needs_background": "light"
     },
     "output_type": "display_data"
    }
   ],
   "source": [
    "c = np.linspace(0,4,4)\n",
    "plt.scatter(x,y)\n",
    "plt.plot(x,1.2 * c, color=\"r\",linestyle='dashed')\n",
    "erorrs = plt.errorbar(x,y,yerr=1.2 * c - y, markersize=0,fmt=\" \",lolims=True,uplims=False,color=\"y\")"
   ]
  },
  {
   "attachments": {},
   "cell_type": "markdown",
   "metadata": {},
   "source": [
    "Der Fehler wird wie folgt berechnet\n",
    "$$\n",
    "\\text{Fehler }  \\epsilon_i = y_i - (\\beta_0 + \\beta_1 x_i) \n",
    "$$\n",
    ". <br>\n",
    "$ \\beta_0 $ und $ \\beta_1 $ sind hierbei die beiden Parameter der Geradengleichung die aufgestellt wird. Dieser Fehler soll dann minimiert werden. Die obige Gleichung kann dann als Matrixproblem definiert werden.\n",
    "$$\n",
    "\\begin{bmatrix}\n",
    "1 & x_1  \\\\\n",
    "1 & x_2  \\\\\n",
    "1 & x_3  \\\\\n",
    "\\cdot & \\cdot  \\\\\n",
    "1 & x_n  \n",
    "\\end{bmatrix}\n",
    "\\begin{bmatrix}\n",
    "\\beta_0   \\\\\n",
    "\\beta_1    \n",
    "\\end{bmatrix}\n",
    "=\n",
    "\\begin{bmatrix}\n",
    "y_1 \\\\\n",
    "y_2   \\\\\n",
    "y_3  \\\\\n",
    "\\cdot \\\\\n",
    "y_n \n",
    "\\end{bmatrix}\n",
    "$$\n",
    "."
   ]
  },
  {
   "attachments": {},
   "cell_type": "markdown",
   "metadata": {},
   "source": [
    "Hierbei soll gelten, dass\n",
    "$$\n",
    "\\begin{bmatrix}\n",
    "\\beta_0 + \\beta_1 x_1  \\\\\n",
    "\\beta_0 +\\beta_1 x_2  \\\\\n",
    "\\beta_0 +\\beta_1 x_3  \\\\\n",
    "\\cdot  \\\\\n",
    "\\beta_0 +\\beta_1x_n  \n",
    "\\end{bmatrix}\n",
    "$$\n",
    "so gut wie möglich an\n",
    "$$\n",
    "\\begin{bmatrix}\n",
    "y_1 \\\\\n",
    "y_2   \\\\\n",
    "y_3  \\\\\n",
    "\\cdot \\\\\n",
    "y_n \n",
    "\\end{bmatrix}\n",
    "$$\n",
    "annähert."
   ]
  },
  {
   "attachments": {},
   "cell_type": "markdown",
   "metadata": {},
   "source": [
    "Zusammengefasst heisst die Gleichung\n",
    "$$\n",
    "X\\overrightarrow{\\beta} = \\overrightarrow{y}\n",
    "$$\n",
    ".<br>\n",
    "Um dies zu lösen wird erst mit $X^T$ multipliziert\n",
    "$$\n",
    "X^T X\\overrightarrow{\\beta}= X^T \\overrightarrow{y}\n",
    "$$\n",
    ".<br>\n",
    "Und nochmal mit $(X^TX)^{-1}$ multipliziert.\n",
    "$$\n",
    "\\overrightarrow{\\beta} = (X^TX)^{-1} X^T \\overrightarrow{y}\n",
    "$$\n",
    ". <br>\n",
    "Nun hat man die Gleichung für $\\overrightarrow{\\beta}$. "
   ]
  },
  {
   "attachments": {},
   "cell_type": "markdown",
   "metadata": {},
   "source": [
    "Nun wird $\\overrightarrow{\\beta}$ für die obigen Datenpunkte berechnet. In der ersten Berechnung wird nur <code>numpy</code> verwendet und in der zweiten wird die implementierte Methode von <code>sklearn</code> verwendet. "
   ]
  },
  {
   "attachments": {},
   "cell_type": "markdown",
   "metadata": {},
   "source": [
    "Zuerst wird der Matrix $x$ eine weitere Spalte hinzugefügt die nur Einsen beinhaltet. Somit besitzt $X$ die Form wie Sie in der obigen Gleichung vorliegt."
   ]
  },
  {
   "cell_type": "code",
   "execution_count": 19,
   "metadata": {},
   "outputs": [],
   "source": [
    "x = [1, 2, 3, 4]\n",
    "y = [1, 3, 3, 5]"
   ]
  },
  {
   "cell_type": "code",
   "execution_count": 58,
   "metadata": {},
   "outputs": [
    {
     "data": {
      "text/plain": [
       "matrix([[1, 1],\n",
       "        [1, 2],\n",
       "        [1, 3],\n",
       "        [1, 4]])"
      ]
     },
     "execution_count": 58,
     "metadata": {},
     "output_type": "execute_result"
    }
   ],
   "source": [
    "X = np.matrix([[1, 1], \n",
    "               [1, 2],\n",
    "              [1, 3],\n",
    "              [1, 4]])\n",
    "X"
   ]
  },
  {
   "attachments": {},
   "cell_type": "markdown",
   "metadata": {},
   "source": [
    "$X^T$"
   ]
  },
  {
   "cell_type": "code",
   "execution_count": 59,
   "metadata": {},
   "outputs": [
    {
     "data": {
      "text/plain": [
       "matrix([[1, 1, 1, 1],\n",
       "        [1, 2, 3, 4]])"
      ]
     },
     "execution_count": 59,
     "metadata": {},
     "output_type": "execute_result"
    }
   ],
   "source": [
    "XT = np.matrix.transpose(X)\n",
    "XT"
   ]
  },
  {
   "attachments": {},
   "cell_type": "markdown",
   "metadata": {},
   "source": [
    "$X^T X$"
   ]
  },
  {
   "cell_type": "code",
   "execution_count": 60,
   "metadata": {},
   "outputs": [
    {
     "data": {
      "text/plain": [
       "matrix([[ 4, 10],\n",
       "        [10, 30]])"
      ]
     },
     "execution_count": 60,
     "metadata": {},
     "output_type": "execute_result"
    }
   ],
   "source": [
    "XT_X = np.matmul(XT, X)\n",
    "XT_X"
   ]
  },
  {
   "attachments": {},
   "cell_type": "markdown",
   "metadata": {},
   "source": [
    "$(X^T X)^{-1} X^T$"
   ]
  },
  {
   "cell_type": "code",
   "execution_count": 64,
   "metadata": {},
   "outputs": [
    {
     "data": {
      "text/plain": [
       "matrix([[ 1. ,  0.5,  0. , -0.5],\n",
       "        [-0.3, -0.1,  0.1,  0.3]])"
      ]
     },
     "execution_count": 64,
     "metadata": {},
     "output_type": "execute_result"
    }
   ],
   "source": [
    "X_S = np.matmul(np.linalg.inv(XT_X), XT)\n",
    "X_S"
   ]
  },
  {
   "attachments": {},
   "cell_type": "markdown",
   "metadata": {},
   "source": [
    "$(X^T X)^{-1} X^T y$"
   ]
  },
  {
   "cell_type": "code",
   "execution_count": 65,
   "metadata": {},
   "outputs": [
    {
     "data": {
      "text/plain": [
       "matrix([[0. , 1.2]])"
      ]
     },
     "execution_count": 65,
     "metadata": {},
     "output_type": "execute_result"
    }
   ],
   "source": [
    "betas = X_S.dot(y)\n",
    "betas"
   ]
  },
  {
   "attachments": {},
   "cell_type": "markdown",
   "metadata": {},
   "source": [
    "Für den vorliegenden Datensatz würde $\\beta_0 = 0$ und $\\beta_1 = 1,2$ sein. "
   ]
  },
  {
   "cell_type": "code",
   "execution_count": 20,
   "metadata": {},
   "outputs": [
    {
     "data": {
      "image/png": "[encoded data removed]",
      "text/plain": [
       "<Figure size 432x288 with 1 Axes>"
      ]
     },
     "metadata": {
      "needs_background": "light"
     },
     "output_type": "display_data"
    }
   ],
   "source": [
    "c = np.linspace(0,4,4)\n",
    "plt.scatter(x,y)\n",
    "out = plt.plot(x,1.2 * c, color=\"y\")"
   ]
  },
  {
   "attachments": {},
   "cell_type": "markdown",
   "metadata": {},
   "source": [
    "Mit <code>sklearn</code> wird dies wie folgt berechnet. Man kann erkennen, dass die Berechnung die gleiche Gerade berechnet."
   ]
  },
  {
   "cell_type": "code",
   "execution_count": 10,
   "metadata": {},
   "outputs": [
    {
     "name": "stdout",
     "output_type": "stream",
     "text": [
      "Der y-Achsenabschnitt liegt bei  8.881784197001252e-16 . Dieser Wert ist nahezu 0.\n",
      "Die Steigung beträgt:  [1.2]\n"
     ]
    }
   ],
   "source": [
    "from sklearn.linear_model import LinearRegression\n",
    "\n",
    "regressor = LinearRegression().fit(X = np.array([1, 2, 3, 4]).reshape(-1, 1), y = [1, 3, 3, 5])\n",
    "print(\"Der y-Achsenabschnitt liegt bei \", str(regressor.intercept_), \". Dieser Wert ist nahezu 0.\")\n",
    "print(\"Die Steigung beträgt: \", str(regressor.coef_))"
   ]
  },
  {
   "attachments": {},
   "cell_type": "markdown",
   "metadata": {},
   "source": [
    "## Lineare Regression mit mehreren Variablen"
   ]
  },
  {
   "attachments": {},
   "cell_type": "markdown",
   "metadata": {},
   "source": [
    "Das Konzept für zwei Variablen kann auf eine beliebige Anzahl an Variablen übertragen werden. Die Rechneschritte bleiben die gleiche. Anstatt einer Gerade würde ab drei Dimensionen eine Ebene modelliert werden. Mit drei Dimensionen kan dies noch gut mit einem Plot veranschaulicht werden, aber alles darüber wird überaus schwierig.\n",
    "\n",
    "Im folgenden Beispiel wird die lineare Regression auf einen Datensatz angewendet, welcher diverse Objekte auflistet die Starbucks anbietet. Hierbei sind jeweils die Nährwert aufgelistet.\n",
    "\n",
    "Ein Einblick in den Datensatz:"
   ]
  },
  {
   "cell_type": "code",
   "execution_count": 12,
   "metadata": {},
   "outputs": [
    {
     "name": "stdout",
     "output_type": "stream",
     "text": [
      "(77, 8)\n"
     ]
    },
    {
     "data": {
      "text/html": [
       "<div>\n",
       "<style scoped>\n",
       "    .dataframe tbody tr th:only-of-type {\n",
       "        vertical-align: middle;\n",
       "    }\n",
       "\n",
       "    .dataframe tbody tr th {\n",
       "        vertical-align: top;\n",
       "    }\n",
       "\n",
       "    .dataframe thead th {\n",
       "        text-align: right;\n",
       "    }\n",
       "</style>\n",
       "<table border=\"1\" class=\"dataframe\">\n",
       "  <thead>\n",
       "    <tr style=\"text-align: right;\">\n",
       "      <th></th>\n",
       "      <th>Unnamed: 0</th>\n",
       "      <th>item</th>\n",
       "      <th>calories</th>\n",
       "      <th>fat</th>\n",
       "      <th>carb</th>\n",
       "      <th>fiber</th>\n",
       "      <th>protein</th>\n",
       "      <th>type</th>\n",
       "    </tr>\n",
       "  </thead>\n",
       "  <tbody>\n",
       "    <tr>\n",
       "      <th>0</th>\n",
       "      <td>1</td>\n",
       "      <td>8-Grain Roll</td>\n",
       "      <td>350</td>\n",
       "      <td>8.0</td>\n",
       "      <td>67</td>\n",
       "      <td>5</td>\n",
       "      <td>10</td>\n",
       "      <td>bakery</td>\n",
       "    </tr>\n",
       "    <tr>\n",
       "      <th>1</th>\n",
       "      <td>2</td>\n",
       "      <td>Apple Bran Muffin</td>\n",
       "      <td>350</td>\n",
       "      <td>9.0</td>\n",
       "      <td>64</td>\n",
       "      <td>7</td>\n",
       "      <td>6</td>\n",
       "      <td>bakery</td>\n",
       "    </tr>\n",
       "    <tr>\n",
       "      <th>2</th>\n",
       "      <td>3</td>\n",
       "      <td>Apple Fritter</td>\n",
       "      <td>420</td>\n",
       "      <td>20.0</td>\n",
       "      <td>59</td>\n",
       "      <td>0</td>\n",
       "      <td>5</td>\n",
       "      <td>bakery</td>\n",
       "    </tr>\n",
       "    <tr>\n",
       "      <th>3</th>\n",
       "      <td>4</td>\n",
       "      <td>Banana Nut Loaf</td>\n",
       "      <td>490</td>\n",
       "      <td>19.0</td>\n",
       "      <td>75</td>\n",
       "      <td>4</td>\n",
       "      <td>7</td>\n",
       "      <td>bakery</td>\n",
       "    </tr>\n",
       "    <tr>\n",
       "      <th>4</th>\n",
       "      <td>5</td>\n",
       "      <td>Birthday Cake Mini Doughnut</td>\n",
       "      <td>130</td>\n",
       "      <td>6.0</td>\n",
       "      <td>17</td>\n",
       "      <td>0</td>\n",
       "      <td>0</td>\n",
       "      <td>bakery</td>\n",
       "    </tr>\n",
       "  </tbody>\n",
       "</table>\n",
       "</div>"
      ],
      "text/plain": [
       "   Unnamed: 0                         item  calories   fat  carb  fiber  \\\n",
       "0           1                 8-Grain Roll       350   8.0    67      5   \n",
       "1           2            Apple Bran Muffin       350   9.0    64      7   \n",
       "2           3                Apple Fritter       420  20.0    59      0   \n",
       "3           4              Banana Nut Loaf       490  19.0    75      4   \n",
       "4           5  Birthday Cake Mini Doughnut       130   6.0    17      0   \n",
       "\n",
       "   protein    type  \n",
       "0       10  bakery  \n",
       "1        6  bakery  \n",
       "2        5  bakery  \n",
       "3        7  bakery  \n",
       "4        0  bakery  "
      ]
     },
     "execution_count": 12,
     "metadata": {},
     "output_type": "execute_result"
    }
   ],
   "source": [
    "data = pd.read_csv(\"starbucks.csv\")\n",
    "print(data.shape)\n",
    "data.head()"
   ]
  },
  {
   "attachments": {},
   "cell_type": "markdown",
   "metadata": {},
   "source": [
    "Aufräumen des Datensatzes sowie dem Hinzufügen der Variable für den y-Achsenabschnitt."
   ]
  },
  {
   "cell_type": "code",
   "execution_count": 13,
   "metadata": {},
   "outputs": [
    {
     "name": "stdout",
     "output_type": "stream",
     "text": [
      "(77, 6)\n"
     ]
    },
    {
     "data": {
      "text/html": [
       "<div>\n",
       "<style scoped>\n",
       "    .dataframe tbody tr th:only-of-type {\n",
       "        vertical-align: middle;\n",
       "    }\n",
       "\n",
       "    .dataframe tbody tr th {\n",
       "        vertical-align: top;\n",
       "    }\n",
       "\n",
       "    .dataframe thead th {\n",
       "        text-align: right;\n",
       "    }\n",
       "</style>\n",
       "<table border=\"1\" class=\"dataframe\">\n",
       "  <thead>\n",
       "    <tr style=\"text-align: right;\">\n",
       "      <th></th>\n",
       "      <th>calories</th>\n",
       "      <th>fat</th>\n",
       "      <th>carb</th>\n",
       "      <th>fiber</th>\n",
       "      <th>protein</th>\n",
       "      <th>Intercept</th>\n",
       "    </tr>\n",
       "  </thead>\n",
       "  <tbody>\n",
       "    <tr>\n",
       "      <th>0</th>\n",
       "      <td>350</td>\n",
       "      <td>8.0</td>\n",
       "      <td>67</td>\n",
       "      <td>5</td>\n",
       "      <td>10</td>\n",
       "      <td>1</td>\n",
       "    </tr>\n",
       "    <tr>\n",
       "      <th>1</th>\n",
       "      <td>350</td>\n",
       "      <td>9.0</td>\n",
       "      <td>64</td>\n",
       "      <td>7</td>\n",
       "      <td>6</td>\n",
       "      <td>1</td>\n",
       "    </tr>\n",
       "    <tr>\n",
       "      <th>2</th>\n",
       "      <td>420</td>\n",
       "      <td>20.0</td>\n",
       "      <td>59</td>\n",
       "      <td>0</td>\n",
       "      <td>5</td>\n",
       "      <td>1</td>\n",
       "    </tr>\n",
       "    <tr>\n",
       "      <th>3</th>\n",
       "      <td>490</td>\n",
       "      <td>19.0</td>\n",
       "      <td>75</td>\n",
       "      <td>4</td>\n",
       "      <td>7</td>\n",
       "      <td>1</td>\n",
       "    </tr>\n",
       "    <tr>\n",
       "      <th>4</th>\n",
       "      <td>130</td>\n",
       "      <td>6.0</td>\n",
       "      <td>17</td>\n",
       "      <td>0</td>\n",
       "      <td>0</td>\n",
       "      <td>1</td>\n",
       "    </tr>\n",
       "  </tbody>\n",
       "</table>\n",
       "</div>"
      ],
      "text/plain": [
       "   calories   fat  carb  fiber  protein  Intercept\n",
       "0       350   8.0    67      5       10          1\n",
       "1       350   9.0    64      7        6          1\n",
       "2       420  20.0    59      0        5          1\n",
       "3       490  19.0    75      4        7          1\n",
       "4       130   6.0    17      0        0          1"
      ]
     },
     "execution_count": 13,
     "metadata": {},
     "output_type": "execute_result"
    }
   ],
   "source": [
    "data.dropna(inplace=True)\n",
    "data[\"Intercept\"] = 1\n",
    "data.drop([\"Unnamed: 0\",\"item\",\"type\"],axis=1,inplace=True)\n",
    "print(data.shape)\n",
    "data.head()"
   ]
  },
  {
   "attachments": {},
   "cell_type": "markdown",
   "metadata": {},
   "source": [
    "Als abhängige Varibale wird die Spalte <code>calories</code> verwendet. Damit wird $Y$ diese Spalte repräsentieren und $X$ wird jede andere Spalte beinhalten. "
   ]
  },
  {
   "cell_type": "code",
   "execution_count": 15,
   "metadata": {},
   "outputs": [],
   "source": [
    "Y = data[\"calories\"].values\n",
    "X = data[data.keys().drop(\"calories\")].values"
   ]
  },
  {
   "attachments": {},
   "cell_type": "markdown",
   "metadata": {},
   "source": [
    "Nun können alle Schritte wie oben durchgeführt werden."
   ]
  },
  {
   "cell_type": "code",
   "execution_count": 25,
   "metadata": {},
   "outputs": [],
   "source": [
    "XT = np.matrix.transpose(X)\n",
    "XT_X = np.matmul(XT, X)\n",
    "XT_X_inv = np.linalg.inv(XT_X)\n",
    "XT_S = np.matmul(XT_X_inv, XT)"
   ]
  },
  {
   "cell_type": "code",
   "execution_count": 26,
   "metadata": {},
   "outputs": [
    {
     "data": {
      "text/plain": [
       "array([ 8.95350798,  3.84205987, -0.02447185,  3.99789342,  5.33359994])"
      ]
     },
     "execution_count": 26,
     "metadata": {},
     "output_type": "execute_result"
    }
   ],
   "source": [
    "betas = XT_S.dot(Y)\n",
    "betas"
   ]
  },
  {
   "attachments": {},
   "cell_type": "markdown",
   "metadata": {},
   "source": [
    "Nochmal mit der vorimplementieren Funktion aus sklearn. Und man kann erkennen, dass die gleichen Werte berechnet wurden."
   ]
  },
  {
   "cell_type": "code",
   "execution_count": 24,
   "metadata": {},
   "outputs": [
    {
     "name": "stdout",
     "output_type": "stream",
     "text": [
      "Der y-Achsenabschnitt liegt bei  5.333599943111608\n",
      "Die Steigungen betragen: \n"
     ]
    },
    {
     "data": {
      "text/plain": [
       "array([ 8.95350798,  3.84205987, -0.02447185,  3.99789342,  0.        ])"
      ]
     },
     "execution_count": 24,
     "metadata": {},
     "output_type": "execute_result"
    }
   ],
   "source": [
    "from sklearn.linear_model import LinearRegression\n",
    "\n",
    "regressor = LinearRegression().fit(X = X, y = Y)\n",
    "print(\"Der y-Achsenabschnitt liegt bei \", str(regressor.intercept_))\n",
    "print(\"Die Steigungen betragen: \")\n",
    "regressor.coef_"
   ]
  },
  {
   "attachments": {},
   "cell_type": "markdown",
   "metadata": {},
   "source": [
    "## Aufgaben"
   ]
  },
  {
   "attachments": {},
   "cell_type": "markdown",
   "metadata": {},
   "source": [
    "In dieser Aufgabe sollen Sie den Starbucks Datensatz aus dem vorherigen Beispiel wieder verwenden und ihn visualisieren."
   ]
  },
  {
   "cell_type": "code",
   "execution_count": 4,
   "metadata": {},
   "outputs": [
    {
     "name": "stdout",
     "output_type": "stream",
     "text": [
      "(77, 8)\n"
     ]
    },
    {
     "data": {
      "text/html": [
       "<div>\n",
       "<style scoped>\n",
       "    .dataframe tbody tr th:only-of-type {\n",
       "        vertical-align: middle;\n",
       "    }\n",
       "\n",
       "    .dataframe tbody tr th {\n",
       "        vertical-align: top;\n",
       "    }\n",
       "\n",
       "    .dataframe thead th {\n",
       "        text-align: right;\n",
       "    }\n",
       "</style>\n",
       "<table border=\"1\" class=\"dataframe\">\n",
       "  <thead>\n",
       "    <tr style=\"text-align: right;\">\n",
       "      <th></th>\n",
       "      <th>Unnamed: 0</th>\n",
       "      <th>item</th>\n",
       "      <th>calories</th>\n",
       "      <th>fat</th>\n",
       "      <th>carb</th>\n",
       "      <th>fiber</th>\n",
       "      <th>protein</th>\n",
       "      <th>type</th>\n",
       "    </tr>\n",
       "  </thead>\n",
       "  <tbody>\n",
       "    <tr>\n",
       "      <th>0</th>\n",
       "      <td>1</td>\n",
       "      <td>8-Grain Roll</td>\n",
       "      <td>350</td>\n",
       "      <td>8.0</td>\n",
       "      <td>67</td>\n",
       "      <td>5</td>\n",
       "      <td>10</td>\n",
       "      <td>bakery</td>\n",
       "    </tr>\n",
       "    <tr>\n",
       "      <th>1</th>\n",
       "      <td>2</td>\n",
       "      <td>Apple Bran Muffin</td>\n",
       "      <td>350</td>\n",
       "      <td>9.0</td>\n",
       "      <td>64</td>\n",
       "      <td>7</td>\n",
       "      <td>6</td>\n",
       "      <td>bakery</td>\n",
       "    </tr>\n",
       "    <tr>\n",
       "      <th>2</th>\n",
       "      <td>3</td>\n",
       "      <td>Apple Fritter</td>\n",
       "      <td>420</td>\n",
       "      <td>20.0</td>\n",
       "      <td>59</td>\n",
       "      <td>0</td>\n",
       "      <td>5</td>\n",
       "      <td>bakery</td>\n",
       "    </tr>\n",
       "    <tr>\n",
       "      <th>3</th>\n",
       "      <td>4</td>\n",
       "      <td>Banana Nut Loaf</td>\n",
       "      <td>490</td>\n",
       "      <td>19.0</td>\n",
       "      <td>75</td>\n",
       "      <td>4</td>\n",
       "      <td>7</td>\n",
       "      <td>bakery</td>\n",
       "    </tr>\n",
       "    <tr>\n",
       "      <th>4</th>\n",
       "      <td>5</td>\n",
       "      <td>Birthday Cake Mini Doughnut</td>\n",
       "      <td>130</td>\n",
       "      <td>6.0</td>\n",
       "      <td>17</td>\n",
       "      <td>0</td>\n",
       "      <td>0</td>\n",
       "      <td>bakery</td>\n",
       "    </tr>\n",
       "  </tbody>\n",
       "</table>\n",
       "</div>"
      ],
      "text/plain": [
       "   Unnamed: 0                         item  calories   fat  carb  fiber  \\\n",
       "0           1                 8-Grain Roll       350   8.0    67      5   \n",
       "1           2            Apple Bran Muffin       350   9.0    64      7   \n",
       "2           3                Apple Fritter       420  20.0    59      0   \n",
       "3           4              Banana Nut Loaf       490  19.0    75      4   \n",
       "4           5  Birthday Cake Mini Doughnut       130   6.0    17      0   \n",
       "\n",
       "   protein    type  \n",
       "0       10  bakery  \n",
       "1        6  bakery  \n",
       "2        5  bakery  \n",
       "3        7  bakery  \n",
       "4        0  bakery  "
      ]
     },
     "execution_count": 4,
     "metadata": {},
     "output_type": "execute_result"
    }
   ],
   "source": [
    "# Lesen Sie den Datensatz wieder ein\n",
    "data = pd.read_csv(\"starbucks.csv\") # \n",
    "\n",
    "print(data.shape)\n",
    "data.head() "
   ]
  },
  {
   "attachments": {},
   "cell_type": "markdown",
   "metadata": {},
   "source": [
    "Da eine Visualisierung mit mehr als drei Variablen nicht leicht visualisierbar ist, sollen Sie sich drei Variablen aus dem Datensatz aussuchen. Wählen Sie für $Y$ eine Spalte aus die das Target sein soll und zwei Spalten die die die unabhängigen Variablen repräsentieren sollen."
   ]
  },
  {
   "cell_type": "code",
   "execution_count": 5,
   "metadata": {},
   "outputs": [],
   "source": [
    "# ???\n",
    "feature1 = \n",
    "feature2 = \n",
    "target = \n",
    "\n",
    "Y = data[target].values \n",
    "X = data[[feature1,feature2]].values "
   ]
  },
  {
   "attachments": {},
   "cell_type": "markdown",
   "metadata": {},
   "source": [
    "Als nächstes müssen Sie die Gerade aufstellen. Nutzen Sie hierfür die Blibiothek von <code>sklearn.linear_model.LinearRegression</code>."
   ]
  },
  {
   "cell_type": "code",
   "execution_count": 6,
   "metadata": {},
   "outputs": [
    {
     "name": "stdout",
     "output_type": "stream",
     "text": [
      "Der y-Achsenabschnitt liegt bei  163.9709082639968\n",
      "Die Steigungen betragen: \n"
     ]
    },
    {
     "data": {
      "text/plain": [
       "array([10.42520716,  3.30619243])"
      ]
     },
     "execution_count": 6,
     "metadata": {},
     "output_type": "execute_result"
    }
   ],
   "source": [
    "from sklearn.linear_model import LinearRegression\n",
    "# ???\n",
    "regressor = \n",
    "print(\"Der y-Achsenabschnitt liegt bei \", str(regressor.intercept_))\n",
    "print(\"Die Steigungen betragen: \")\n",
    "regressor.coef_"
   ]
  },
  {
   "attachments": {},
   "cell_type": "markdown",
   "metadata": {},
   "source": [
    "Da mehr als zwei Variablen verwendet wurden, ist die berechnete lineare Regression keine Gerade mehr sondern eine Ebene. Das wird folgend in einem 3D-Plot visualisiert. Die Ebene wird in hellblau dargestellt und die verwendeten Datenpunkte in rot. Sie können mit dem Parameter <code>theta</code> die Ansicht des Plots verändern. Zudem können Sie die jeweils verwendeten Daten für die features und dem target verändern."
   ]
  },
  {
   "cell_type": "code",
   "execution_count": 17,
   "metadata": {},
   "outputs": [
    {
     "data": {
      "application/vnd.jupyter.widget-view+json": {
       "model_id": "bb48534998dc4bd0a940da9a8e48f6b5",
       "version_major": 2,
       "version_minor": 0
      },
      "text/plain": [
       "HBox(children=(interactive(children=(IntSlider(value=175, description='theta', max=360, step=25), Dropdown(des…"
      ]
     },
     "metadata": {},
     "output_type": "display_data"
    }
   ],
   "source": [
    "remove_idx = [0, 1, -1]\n",
    "feature_list = np.delete(data.columns, remove_idx)\n",
    "\n",
    "one = Dropdown(options=feature_list,value=feature1)\n",
    "two = Dropdown(options=feature_list,value=feature2)\n",
    "tar = Dropdown(options=feature_list,value=target)\n",
    "button = widgets.Button(description='Animation erstellen')\n",
    "\n",
    "\n",
    "\n",
    "def update(theta,feature_1,feature_2,target):\n",
    "    feature1 = feature_1\n",
    "    feature2 = feature_2\n",
    "    target = target\n",
    "    Y = data[target].values \n",
    "    X = data[[feature1,feature2]].values\n",
    "    regressor = LinearRegression().fit(X = X, y = Y)\n",
    "    x = X[:, 0]\n",
    "    y = X[:, 1]\n",
    "    x_surf, y_surf = np.meshgrid(np.linspace(x.min(), x.max(), 100),np.linspace(y.min(), y.max(), 100))\n",
    "    onlyX = pd.DataFrame({feature1: x_surf.ravel(), feature2: y_surf.ravel()})\n",
    "    fittedY = regressor.predict(onlyX)\n",
    "    fig = plt.figure(figsize=(20,10))\n",
    "    ax = fig.add_subplot(111, projection='3d')\n",
    "    ax.scatter(data[feature1],data[feature2],data[target],c='red', marker='o', alpha=0.5)\n",
    "    ax.plot_surface(x_surf,y_surf,fittedY.reshape(x_surf.shape), color='b', alpha=0.3)\n",
    "    ax.set_xlabel(feature1)\n",
    "    ax.set_ylabel(feature2)\n",
    "    ax.set_zlabel(target)\n",
    "    ax.view_init(azim=theta, elev=20)\n",
    "\n",
    "    def rotate(angle):\n",
    "        ax.view_init(azim=angle)\n",
    "    rot_animation = FuncAnimation(fig, rotate, frames=np.arange(0,362,2),interval=100)\n",
    "    def on_button_clicked(_):\n",
    "        rot_animation.save('rotation2.gif', dpi=80, writer='FFMpegFile')\n",
    "    button.on_click(on_button_clicked)\n",
    "\n",
    "    plt.show()\n",
    "    \n",
    "widgets.HBox([interactive(update, theta = (0,360,25,),feature_1 = one,feature_2 = two, target = tar),button])"
   ]
  },
  {
   "attachments": {},
   "cell_type": "markdown",
   "metadata": {},
   "source": [
    "![Title](rotation.gif)"
   ]
  }
 ],
 "metadata": {
  "kernelspec": {
   "display_name": "base",
   "language": "python",
   "name": "python3"
  },
  "language_info": {
   "codemirror_mode": {
    "name": "ipython",
    "version": 3
   },
   "file_extension": ".py",
   "mimetype": "text/x-python",
   "name": "python",
   "nbconvert_exporter": "python",
   "pygments_lexer": "ipython3",
   "version": "3.8.13"
  },
  "orig_nbformat": 4
 },
 "nbformat": 4,
 "nbformat_minor": 2
}
