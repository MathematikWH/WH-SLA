{
 "cells": [
  {
   "attachments": {},
   "cell_type": "markdown",
   "metadata": {},
   "source": [
    "# Matrizenrechnung mit Python\n",
    "\n",
    "<!-- Würde man die Spannung von Schraubenschlüsseln einem Mediziner und das Erstellen von Computertomographien (CT) anhand von Strahlen-Messungen einer Ingenieurin vorlegen, so wüsste vermutlich weder der eine noch die andere, was beides miteinander zu tun haben. Die Informatik als Schnittstelle weiß dagegen mehr, denn wenn es aus heutiger Sicht darum geht, dass Informatiksysteme sowohl Spannungen als auch CT's berechnen bzw. erstellen, dann müssen in beiden Fällen $\\textit{große, lineare Gleichungssysteme}$ erstellt und gelöst werden. Nun ist es so, dass besagte Gleichungssysteme enormen Aufwand und Mühsal beim Aufschreiben bedeuten, sodass dafür das übersichtliche Schema der sogenannten $\\textit{Matrizen}$ entwickelt wurde.<br> Im weiteren Verlauf werden Sie sich mit Theorien der linearen Algebra auseinandersetzen und Matrizen haben sich dafür als unverzichtbar herausgestellt. Daher sollen Sie in diesem Notebook erste $\\textit{Konzepte}$ und $\\textit{Rechenregeln}$ der Matrizen kennenlernen, um ein Gefühl dafür zu entwickeln, wie man mit ihnen arbeitet und rechnet.\n",
    "-->\n",
    "\n",
    "Dieses Notebook soll Sie darin schulen, in dem Umgang mit Matrizen in Python-Code vertrauter zu werden. Sie werden kennenlernen, wie Matrizen in Python initialisiert werden und wie man mit ihnen anschließend rechnet. Dazu werden bekannte mathematische Konzepte wie die Multiplikation von Matrizen in Python-Code umgesetzt. Das darauf aufbauende Notebook \"Weitere Operationen von Matrizen\" soll entsprechendes Wissen über Python und die Implementierung weiterer Konzepte vertiefen."
   ]
  },
  {
   "attachments": {},
   "cell_type": "markdown",
   "metadata": {},
   "source": [
    "<b> Python Grundlagen: </b>  Umgang mit NumPy wünschenswert, Kontrollstrukturen, Schleifen, Variablen <br>\n",
    "<b> Math. Grundlagen: </b> Vektoren, Matrizen, lineare Gleichungssysteme <br>\n",
    "\n",
    "<ul>\n",
    " <li><a href=\"#1\">Einstieg</a></li>\n",
    " <li><a href=\"#2\">Verknüpfungen für Matrizen</a></li>\n",
    " <li><a href=\"#3\">Rechenregeln</a></li>\n",
    "</ul>\n"
   ]
  },
  {
   "cell_type": "markdown",
   "metadata": {},
   "source": [
    "Sie werden einige Module zur korrekten Implementierung benötigen. Führen Sie daher zum Start die folgende Code-Zelle aus:"
   ]
  },
  {
   "cell_type": "code",
   "execution_count": 4,
   "metadata": {},
   "outputs": [],
   "source": [
    "# Import von benötigten Modulen\n",
    "import numpy as np"
   ]
  },
  {
   "attachments": {},
   "cell_type": "markdown",
   "metadata": {},
   "source": [
    "## Einstieg <a id=\"1\"></a>\n",
    "\n",
    "$\\textsf{Erinnerung}$: Sei $K$ ein Körper, betrachten Sie z.B. die reellen Zahlen $K = \\mathbb{R}$. Für natürliche Zahlen $m,n$ ist dann eine $m \\times n- \\text{Matrix }A$  eine $\\text{rechteckige Anordnung}$ von $\\color{cyanorange} \\text{Koeffizienten (Einträgen)}$ $a_{ij} \\in K$ mit $i =1,\\dots, m$ und $j = 1, \\dots, n$. Man sagt, die Matrix $A$ habe $m$ $\\text{Zeilen}$ und $n$ $\\text{Spalten}$, wobei die $a_{ij}$ auch $\\text{Einträge}$ der Matrix genannt werden. \n",
    "\n",
    "Nehmen Sie ein paar Beispiele zur Hand. Die Matrizen $A, B$ und $C$ seien beschrieben durch $$ A =\n",
    "\\begin{pmatrix*}[r]\n",
    "3 & 0 & 2  \\\\\n",
    "-9 &6 & 0 \\\\\n",
    "\\end{pmatrix*},\\quad\n",
    "B=\\begin{pmatrix}\n",
    "2 & 2 \\\\\n",
    "5 & 1  \\\\\n",
    "\\end{pmatrix}, \\quad\n",
    "C=\\begin{pmatrix}\n",
    "8  \\\\\n",
    "3   \\\\ \n",
    "\\end{pmatrix}.$$ \n",
    "\n",
    "Folglich handelt es sich bei $A$ um eine $2 \\times 3$-Matrix, bei $B$ um eine $ 2 \\times 2$ und bei $C$ um eine $2 \\times 1$ Matrix. Der Eintrag in der $1$. Zeile und $2$. Spalte der Matrix $A$ lautet dann $$ a_{12} = 0,$$ wohingegen $ b_{12} = 2$ gilt. Weitere einfache, aber nicht weniger wichtige Beispiele sind sowohl die $n \\times n-\\text{Einheitsmatrix}$  $E_n = \n",
    "\\begin{pmatrix}\n",
    "1 &  & 0 \\\\\n",
    " & \\ddots & \\\\\n",
    "0 &  & 1 \n",
    "\\end{pmatrix}\n",
    "$, als auch die $n \\times n-\\text{Nullmatrix}$  $\\mathbf{0} = \n",
    "\\begin{pmatrix}\n",
    "0 & \\cdots & 0 \\\\\n",
    " \\vdots & \\ddots & \\vdots\\\\\n",
    "0 & \\cdots & 0 \n",
    "\\end{pmatrix}\n",
    "$."
   ]
  },
  {
   "attachments": {},
   "cell_type": "markdown",
   "metadata": {},
   "source": [
    "### Realisierung in Python\n",
    "\n",
    "In Python werden Matrizen als mehrdimensionale Listen initialisiert. Man kann dafür die in Python integrierten Standarbibliothek für Listen verwenden, wodurch die Initialisierung einer $2 \\times 2$-Matrix $ A =\n",
    "\\begin{pmatrix}\n",
    "1 & 2 \\\\\n",
    "3 & 4 \\\\\n",
    "\\end{pmatrix}$ folgendermaßen aussähe <center><code> A = [[1,2],[3,4]]</code>.</center> Die Matrix wird demnach zeilenweise in Teillisten abgespeichert.\n",
    "\n",
    "Allerdings bietet das Modul <code>numpy</code> ein größeres Arsenal an Funktionen an, die später auf Matrizen angewendet werden sollen. Eine Initialisierung der gleichen Matrix sähe über <code>numpy</code> dann so aus: <center><code>A = np.array([[1,2],[3,4]])</code>.</center> \n",
    "\n",
    "Im weiteren Verlauf werden Sie <code>numpy</code> zum Initialisieren verwenden. Machen Sie sich auch die unterschiedliche Darstellung in der Ausgabe bewusst, indem Sie die Code-Zeilen der folgenden Zelle ausführen:\n"
   ]
  },
  {
   "cell_type": "code",
   "execution_count": 28,
   "metadata": {},
   "outputs": [
    {
     "name": "stdout",
     "output_type": "stream",
     "text": [
      "Standardbibliothek:\n",
      " [[1, 2], [3, 4]] \n",
      "\n",
      "numpy:\n",
      " [[1 2]\n",
      " [3 4]]\n"
     ]
    }
   ],
   "source": [
    "A = [[1, 2], [3, 4]]\n",
    "print(\"Standardbibliothek:\\n\", A, \"\\n\")\n",
    "\n",
    "A = np.array([[1, 2], [3, 4]])\n",
    "print(\"numpy:\\n\", A)"
   ]
  },
  {
   "attachments": {},
   "cell_type": "markdown",
   "metadata": {},
   "source": [
    "Es kann ebenso hilfreich sein, auf die Größenordnung einer Matrix $A$ zurückzugreifen. <code>numpy</code> stellt dafür die Funktion <code>shape</code> zur Verfügung und liefert als Ergebnis selbst ein Array zurück. Das erste Element mit Index $0$ gibt die Zeilenanzahl, das zweite Element mit Index $1$ gibt entsprechend die Spaltenzahl zurück. "
   ]
  },
  {
   "cell_type": "code",
   "execution_count": 29,
   "metadata": {},
   "outputs": [
    {
     "name": "stdout",
     "output_type": "stream",
     "text": [
      "Die Matrix A =\n",
      " [[1 2 3]\n",
      " [4 5 6]] \n",
      "\n",
      "hat 2 Zeilen und 3 Spalten\n"
     ]
    }
   ],
   "source": [
    "A = np.array([[1, 2, 3], [4, 5, 6]])\n",
    "\n",
    "print(\"Die Matrix A =\\n\", A, \"\\n\")\n",
    "print(\"hat\", A.shape[0], \"Zeilen und\", A.shape[1], \"Spalten\")"
   ]
  },
  {
   "attachments": {},
   "cell_type": "markdown",
   "metadata": {},
   "source": [
    "\n",
    "<div style= \"color: black;background-color: powderblue ;margin: 10 px auto; padding: 10px; border-radius: 10px\">\n",
    "    <p style=\"font-size:12pt; text-align:center; color:   black; background-color: lightskyblue ;margin: 10 px auto; padding: 10px; border-radius: 10px\" id=\"1\"><b>Aufgabe 1</b>  </p> \n",
    "\n",
    "    \n",
    "Initialisieren Sie folgende Matrizen $A$, $B$ und $C$, indem Sie in der folgenden Zelle die Code-Zeilen entsprechend ergänzen. Lassen Sie ebenfalls die Größenordnung der Matrix $C$ ausgeben:\n",
    "$$\n",
    "A=\\begin{pmatrix}\n",
    "6 & 2 & 2 \\\\\n",
    "1 & 9 & 5 \\\\\n",
    "0 & 8 & 7\n",
    "\\end{pmatrix},\\quad\n",
    " B=\\begin{pmatrix}\n",
    "2 & 2 & 4 \\\\\n",
    "0 & 5 & 0 \\\\\n",
    "\\end{pmatrix}, \\quad\n",
    "C=\\begin{pmatrix}\n",
    "0 & 3  \\\\\n",
    "1 & 5  \\\\\n",
    "4 & 7 \n",
    "\\end{pmatrix}\n",
    "$$"
   ]
  },
  {
   "cell_type": "code",
   "execution_count": null,
   "metadata": {},
   "outputs": [
    {
     "name": "stdout",
     "output_type": "stream",
     "text": [
      "A = \n",
      " [[6 2 2]\n",
      " [1 9 5]\n",
      " [0 8 7]] \n",
      "\n",
      "B = \n",
      " [[2 2 4]\n",
      " [0 5 0]] \n",
      "\n",
      "C = \n",
      " [[0 3]\n",
      " [1 5]\n",
      " [4 7]] \n",
      "\n",
      "mit Zeilenzahl 3 und Spaltenzahl 2\n"
     ]
    }
   ],
   "source": [
    "A = # ???\n",
    "print(\"A = \\n\", A, \"\\n\")\n",
    "\n",
    "B = # ???\n",
    "print(\"B = \\n\", B, \"\\n\")\n",
    "\n",
    "C = # ???\n",
    "print(\"C = \\n\", C, \"\\n\\nmit Zeilenzahl\", ... , \"und Spaltenzahl\", ...)  # ???"
   ]
  },
  {
   "attachments": {},
   "cell_type": "markdown",
   "metadata": {},
   "source": [
    "## Verknüpfungen für Matrizen <a id=\"2\"></a>\n",
    "### Addition und skalare Multiplikation\n",
    "\n",
    "Genau wie es für reelle Zahlen üblich ist, gibt es ebenso für Matrizen Rechenregeln zu beachten. Matrizen $A$ und $B$ können nur mit gleicher Größenordnung komponentenweise addiert und jegliche Matrizen mit Skalaren multipliziert werden:<br> \n",
    " $\\begin{align}  (A + B)_{ij} &=a_{ij} + b_{ij} \\nonumber,\\\\[2pt](\\lambda  A)_{ij} &=  \\lambda a_{ij}\\nonumber\\end{align}$\n",
    "\n",
    "Konkret ergibt sich als Beispiel $$\\begin{pmatrix} 1 & 2  \\\\ 0 & 4  \\end{pmatrix} + \\begin{pmatrix} 6 & 2 \\\\ 8 & 7 \\end{pmatrix} = \\begin{pmatrix} 7 & 4 \\\\ 8 & 11 \\end{pmatrix}$$ und $$ 3\\begin{pmatrix} 6 & 2 \\\\ 8 & 7 \\end{pmatrix} = \\begin{pmatrix} 18 & 6 \\\\ 24 & 21 \\end{pmatrix} .$$\n"
   ]
  },
  {
   "attachments": {},
   "cell_type": "markdown",
   "metadata": {},
   "source": [
    "\n",
    "<div style= \"color: black;background-color: powderblue ;margin: 10 px auto; padding: 10px; border-radius: 10px\">\n",
    "    <p style=\"font-size:12pt; text-align:center; color:   black; background-color: lightskyblue ;margin: 10 px auto; padding: 10px; border-radius: 10px\" id=\"1\"><b>Aufgabe 2</b>  </p> \n",
    "\n",
    "Nehmen Sie wieder die Matrix $ A =\\begin{pmatrix}\n",
    "6 & 2 & 2 \\\\\n",
    "1 & 9 & 5 \\\\\n",
    "0 & 8 & 7\n",
    "\\end{pmatrix}$ zur Hand und überlegen Sie sich selbst eine Matrix $D$, die die gleiche Größenordnung besitzt und berechnen Sie $A+D$, $A-D$, sowie $ 5 A$ schriftlich. Anschließend initialisieren Sie $D$ und überprüfen Ihr Ergebnis mit Hilfe der Ausgabe."
   ]
  },
  {
   "cell_type": "code",
   "execution_count": 31,
   "metadata": {},
   "outputs": [
    {
     "name": "stdout",
     "output_type": "stream",
     "text": [
      " Matrix A =\n",
      " [[6 2 2]\n",
      " [1 9 5]\n",
      " [0 8 7]] \n",
      "\n",
      " Matrix D =\n",
      " [[1 2 3]\n",
      " [4 5 6]\n",
      " [7 8 9]] \n",
      "\n",
      "Dann gilt: A + D =\n",
      " [[ 7  4  5]\n",
      " [ 5 14 11]\n",
      " [ 7 16 16]] ,\n",
      "\n",
      "A - D =\n",
      " [[ 5  0 -1]\n",
      " [-3  4 -1]\n",
      " [-7  0 -2]] \n",
      "\n",
      "und 5A =\n",
      " [[30 10 10]\n",
      " [ 5 45 25]\n",
      " [ 0 40 35]]\n"
     ]
    }
   ],
   "source": [
    "A = np.array([[6, 2, 2], [1, 9, 5], [0, 8, 7]])\n",
    "D = # ???\n",
    "print(\" Matrix A =\\n\", A, \"\\n\")\n",
    "print(\" Matrix D =\\n\", D, \"\\n\")\n",
    "print(\"Dann gilt: A + D =\\n\", A + D, \",\\n\")\n",
    "print(\"A - D =\\n\", A - D, \"\\n\")\n",
    "print(\"und 5A =\\n\", 5 * A)"
   ]
  },
  {
   "attachments": {},
   "cell_type": "markdown",
   "metadata": {},
   "source": [
    "### Multiplikation\n",
    "\n",
    "Man kann auch Matrizen miteinander multiplizieren, allerdings ist die Vorgehensweise hier eine andere. Statt, dass alle Einträge einfach miteinander multipliziert werden, folgt man hier dem Gesetz, das sich aus den linearen Gleichungssystem ableiten lässt. Dabei müssen Sie nur beachten, dass zwei Matrizen zueinander kompatibel sind, d.h.:\n",
    "\n",
    "Sind $A$ eine $m \\times n$- und $B$ eine $n \\times p$-Matrix, d.h. die Spaltenzahl von $A$ $\\textit{muss}$ mit der Zeilenzahl von $B$ übereinstimmen, dann ist das Matrizenprodukt $C = AB$ gegeben durch $$ c_{ik} = \\sum_{j=0}^n a_{ij}b_{jk} = a_{i1}b_{1k} + a_{i2}b_{2k} + \\ldots + a_{in}b_{nk}$$ für $ i=1,\\ldots, m$ und $k = 1,\\dots, p$. Beispielsweise ist $$\\begin{pmatrix*}[r] 1 & 4 & -1 & 2 \\\\2 & 1 & -1 & -2 \\\\2 & 3 & 0 & -3\\end{pmatrix*} \\cdot \\begin{pmatrix*}[r] 1 & 2\\\\-1 & 1\\\\2 & -3\\\\2 & 0\\\\\\end{pmatrix*} = \\begin{pmatrix*}[r] -1 & 9\\\\-5 & 8\\\\-7 & 7\\end{pmatrix*}.$$"
   ]
  },
  {
   "attachments": {},
   "cell_type": "markdown",
   "metadata": {},
   "source": [
    "Das Potenzieren einer Matrix lässt sich für quadratische Matrizen entsprechend ableiten. Man setzt $A^0 \\coloneqq E_n$ und $$ A^n \\coloneqq \\underbrace{A \\cdot \\ldots \\cdot A}_{n-\\textsf{mal}}$$\n",
    "In Python lässt sich die Matrixmultiplikation dann über zwei Wege realisieren. Nutzen Sie dafür den <code>@</code>-Operator oder die <code>dot()</code>-Funktion des <code>numpy</code>-Moduls. "
   ]
  },
  {
   "attachments": {},
   "cell_type": "markdown",
   "metadata": {},
   "source": [
    "$\\textsf{Vorsicht}$: Im Fall von quadratischen Matrizen $A,B$, für die $A\\cdot B$ existiert, wäre es falsch anzunehmen, dass, wie bei den reellen Zahlen, die Reihenfolge der Matrizenmultiplikation unerheblich ist. Machen Sie sich an einem Beispiel von $2 \\times 2$-Matrizen deutlich, dass Matrizen $\\textsf{im Allgemeinen nicht kommutieren}$, d.h. es gilt $$ AB \\neq BA.$$ "
   ]
  },
  {
   "attachments": {},
   "cell_type": "markdown",
   "metadata": {},
   "source": [
    "<div style= \"color: black;background-color: powderblue ;margin: 10 px auto; padding: 10px; border-radius: 10px\">\n",
    "    <p style=\"font-size:12pt; text-align:center; color:   black; background-color: lightskyblue ;margin: 10 px auto; padding: 10px; border-radius: 10px\" id=\"1\"><b>Aufgabe 3</b>  </p> \n",
    "\n",
    "1. Berechnen Sie das Produkt der Matrizen $A$ und $D$ aus Aufgabe $2$ und überprüfen Sie Ihr Ergebnis über die Befehle <code>A @ D</code> bzw. <code>A.dot(D)</code>. Finden Sie ein geeignetes Beispiel, um zu zeigen, dass das Matrixprodukt nicht kommutativ ist. Initalisieren Sie dazu Ihr Gegenbeispiel in der Code-Zelle und überprüfen die Konsolenausgabe nach Ausführung des Codes.\n",
    "\n",
    "2. Ergänzen Sie den Code in der mit <b> Teil 2 </b> gekenzeichneten Stelle, um zu prüfen, ob für zwei vorgegebene Matrizen $F$ und $G$ das Produkt $FG$ existiert. Testen Sie Ihren Code anschließend an ausgewählten Beispielen."
   ]
  },
  {
   "cell_type": "code",
   "execution_count": 32,
   "metadata": {},
   "outputs": [
    {
     "name": "stdout",
     "output_type": "stream",
     "text": [
      "A @ D =\n",
      " [[ 28  38  48]\n",
      " [ 72  87 102]\n",
      " [ 81  96 111]] \n",
      "\n",
      "A.dot(D) =\n",
      " [[ 28  38  48]\n",
      " [ 72  87 102]\n",
      " [ 81  96 111]]\n",
      "[[ 28  38  48]\n",
      " [ 72  87 102]\n",
      " [ 81  96 111]]\n",
      "\n",
      "MN =\n",
      " [[0 1]\n",
      " [0 0]] \n",
      "\n",
      "wobei NM =\n",
      " [[0 0]\n",
      " [0 0]]\n",
      "F und G können nicht miteinander multipliziert werden!\n"
     ]
    }
   ],
   "source": [
    "# --- Teil 1 ---\n",
    "A = np.array([[6, 2, 2], [1, 9, 5], [0, 8, 7]])\n",
    "D = # ???\n",
    "print(\"A @ D =\\n\", A @ D, \"\\n\")\n",
    "print(\"A.dot(D) =\\n\", A.dot(D))\n",
    "print(A @ D)\n",
    "\n",
    "# Initialisieren Sie hier Ihre ausgewählten Gegenbeispiele und überprüfen die Behauptung\n",
    "M = # ???\n",
    "\n",
    "N = # ???\n",
    "print(\"\\nMN =\\n\", M.dot(N), \"\\n\\nwobei NM =\\n\", N.dot(M))\n",
    "\n",
    "\n",
    "# --- Teil 2 ---\n",
    "# hier Code ergänzen\n",
    "F = # ???\n",
    "G = # ???\n",
    "\n",
    "if F.shape[1] == ... :  # ???\n",
    "    print(\"\\nF und G können miteinander multipliziert werden!\\nEs ist FG =\\n\", ...)  # ???\n",
    "else:\n",
    "    print(\"F und G können nicht miteinander multipliziert werden!\")"
   ]
  },
  {
   "attachments": {},
   "cell_type": "markdown",
   "metadata": {},
   "source": [
    "## Rechenregeln <a id=\"3\"></a>\n",
    "Sie kennen ebenfalls das Assoziativ- und Distributivgesetz. Für Matrizen $A$,$B$ und $C$ gilt $ \\begin{align} A(B+C) = AB+AC \\quad \\text{ und }\\quad (A+B) C = AC + BC \\nonumber\\end{align},$ sowie $$ A(BC) = (AB)C.$$\n"
   ]
  },
  {
   "attachments": {},
   "cell_type": "markdown",
   "metadata": {},
   "source": [
    "<div style= \"color: black;background-color: powderblue ;margin: 10 px auto; padding: 10px; border-radius: 10px\">\n",
    "    <p style=\"font-size:12pt; text-align:center; color:   black; background-color: lightskyblue ;margin: 10 px auto; padding: 10px; border-radius: 10px\" id=\"1\"><b>Aufgabe 4</b>  </p> \n",
    "    \n",
    "Vertiefen Sie in dieser Aufgabe Ihre Kenntnisse zu Rechenoperationen von Matrizen, indem Sie folgende Aufgaben bearbeiten:\n",
    "\n",
    "1. Finden sie eine $3\\times 3$-Matrix $A$, sodass $A^3 = \\mathbf{0}$. Überprüfen Sie in der Ausgabe Ihr Ergebnis.\n",
    "\n",
    "2. Finden Sie zur Matrix $B = \\begin{pmatrix*}[r] 1 & 0\\\\-1 & 1\\end{pmatrix*}$ eine geeignete Matrix $C$ mit $BC = \\begin{pmatrix*}[r] 1 & 0\\\\0 & 1\\end{pmatrix*}$. Überprüfen Sie ebenfalls ihre Eingabe in der Ausgabe.\n"
   ]
  },
  {
   "cell_type": "code",
   "execution_count": 33,
   "metadata": {},
   "outputs": [
    {
     "name": "stdout",
     "output_type": "stream",
     "text": [
      "A^3 =  [[0 0 0]\n",
      " [0 0 0]\n",
      " [0 0 0]]\n"
     ]
    }
   ],
   "source": [
    "# Teilaufgabe 1\n",
    "\n",
    "A = # ???\n",
    "\n",
    "result = A @ A @ A\n",
    "print(\"A^3 = \", result)"
   ]
  },
  {
   "cell_type": "code",
   "execution_count": 34,
   "metadata": {},
   "outputs": [
    {
     "name": "stdout",
     "output_type": "stream",
     "text": [
      "Ihre Matrix C ist korrekt: BC =\n",
      " [[1 0]\n",
      " [0 1]]\n"
     ]
    }
   ],
   "source": [
    "# Teilaufgabe 2\n",
    "\n",
    "B = np.array([[1, 0], [-1, 1]])\n",
    "C = # ???\n",
    "\n",
    "E = np.array([[1, 0], [0, 1]])\n",
    "\n",
    "result = B @ C\n",
    "\n",
    "if np.array_equal(result, E):\n",
    "    print(\"Ihre Matrix C ist korrekt: BC =\\n\", result)\n",
    "else:\n",
    "    print(\"Ihre Matrix C ist nicht korrekt, denn BC =\\n\", result)"
   ]
  },
  {
   "attachments": {},
   "cell_type": "markdown",
   "metadata": {},
   "source": [
    "### Lineare Gleichungssysteme\n",
    "\n",
    "Wie schon anfangs vorgestellt, ist die Matrix insbesondere beim Lösen von linearen Gleichungssystemen (LGS) hilfreich. Nimmt man das LGS \n",
    "$$ \\begin{align*} x_1 + 2x_2 +3x_3 &= 6 \\\\ 5x_2 +4x_3 &= 9 \\\\ 6x_1 + x_2 +x_3 &= 8 \\end{align*}$$\n",
    "\n",
    "so lässt sich dieses in der kompakten $\\textsf{Matrix-Vektor-Multiplikation}$ \n",
    "$$\\begin{pmatrix*}[r] 1 & 2 & 3\\\\ 0 & 5 & 4\\\\6 & 1 & 3\\\\\\end{pmatrix*}\\cdot \\begin{pmatrix*}[r] x_1 \\\\ x_2 \\\\ x_3\\end{pmatrix*} =  \\begin{pmatrix*}[r] 6 \\\\ 9 \\\\ 8\\end{pmatrix*} $$\n",
    "\n",
    "oder $\\textsf{erweiterten Koeffizientenmatrix}$ darstellen. Solche LGS können Sie mit dem Gauß'schen Eliminationsverfahren per Hand oder mithilfe von <code>numpy</code> durch die Funktion <code>linalg.solve</code> lösen. Zur Erinnerung, ein LGS kann eindeutig oder allgemein lösbar, oder aber unlösbar sein. Ein Beispiel dazu finden Sie in der folgenden Code-Zelle:"
   ]
  },
  {
   "cell_type": "code",
   "execution_count": 35,
   "metadata": {},
   "outputs": [
    {
     "name": "stdout",
     "output_type": "stream",
     "text": [
      "Die Lösung des LGS AX = C lautet:\n",
      "X = [1. 1. 1.]\n",
      "\n",
      "LGS BX = C ist unlösbar -> Exception LinAlgError: Singular matrix\n"
     ]
    }
   ],
   "source": [
    "A = np.array([[1, 2, 3], [0, 5, 4], [6, 1, 1]])\n",
    "B = np.array([[-4, 10, 9], [-1, 3, 3], [-2, 4, 3]])\n",
    "\n",
    "C = np.array([6, 9, 8])  # Achten Sie auf die Schreibweise des Vektors\n",
    "\n",
    "try:\n",
    "    X = np.linalg.solve(A, C)\n",
    "    print(\"Die Lösung des LGS AX = C lautet:\\nX =\", X)\n",
    "except Exception as e:\n",
    "    print(\"\\nLGS AX = C ist unlösbar -> Exception LinAlgError:\", e)\n",
    "\n",
    "try:\n",
    "    X = np.linalg.solve(B, C)\n",
    "    print(\"Die Lösung des LGS BX = C lautet:\\nX =\", X)\n",
    "except Exception as e:\n",
    "    print(\"\\nLGS BX = C ist unlösbar -> Exception LinAlgError:\", e)"
   ]
  },
  {
   "attachments": {},
   "cell_type": "markdown",
   "metadata": {},
   "source": [
    "<div style= \"color: black;background-color: powderblue ;margin: 10 px auto; padding: 10px; border-radius: 10px\">\n",
    "    <p style=\"font-size:12pt; text-align:center; color:   black; background-color: lightskyblue ;margin: 10 px auto; padding: 10px; border-radius: 10px\" id=\"1\"><b>Aufgabe 5</b>  </p> \n",
    "    \n",
    "1. Berechnen sie die Lösungen der folgenden LGS: \n",
    "$$ \\text{a)} \\quad \\begin{pmatrix*}[r] 1 & 2 & 3\\\\ 0 & 5 & 4\\\\6 & 1 & 1\\\\\\end{pmatrix*}\\cdot \\begin{pmatrix*}[r] x_1 \\\\ x_2 \\\\ x_3\\end{pmatrix*} =  \\begin{pmatrix*}[r] 6 \\\\ 9 \\\\ 8\\end{pmatrix*} \\quad\\quad\\text{b)} \\quad \\begin{pmatrix*}[r] 1 & 0 & 1\\\\ 1 & 0 & 1\\\\2 & 1 & 0\\\\\\end{pmatrix*}\\cdot \\begin{pmatrix*}[r] x_1 \\\\ x_2 \\\\ x_3\\end{pmatrix*} =  \\begin{pmatrix*}[r]10 \\\\ 12 \\\\ 9\\end{pmatrix*} $$\n",
    "\n",
    "2. Finden Sie ein $t \\in \\mathbb{R}$, sodass das folgende LGS eindeutig lösbar wird $$\\begin{align*} x_1 + tx_2 &= 1 \\\\ 2tx_1 +3x_2 &= 0 \\end{align*}$$\n",
    "\n",
    "Überprüfen Sie anschließend Ihre Lösungen."
   ]
  },
  {
   "cell_type": "code",
   "execution_count": 36,
   "metadata": {},
   "outputs": [
    {
     "name": "stdout",
     "output_type": "stream",
     "text": [
      "Das LGS AX = B ist lösbar.\n",
      "Ihre Antwort zur Lösbarkeit: lösbar\n",
      "\n",
      "Ihr Lösungsvektor X = [0 0 0] ist nicht korrekt.\n"
     ]
    }
   ],
   "source": [
    "# Teilaufgabe 1 a)\n",
    "A = np.array([[1, 2, 3], [0, 5, 4], [6, 1, 1]])\n",
    "X = # hier möglichen Lösungsvektor eintragen\n",
    "B = np.array([6, 9, 8])\n",
    "\n",
    "\n",
    "possible = (\n",
    "    ...  # legen sie zunächst fest (True/False), ob das LGS lösbar ist oder nicht\n",
    ")\n",
    "solvable = True\n",
    "antwort = \"lösbar\" if possible == True else \"unlösbar\"\n",
    "\n",
    "# den nachfolgende Code-Abschnitt müssen Sie nicht nachvollziehen\n",
    "try:\n",
    "    Y = np.linalg.solve(A, B)\n",
    "    print(\"Das LGS AX = B ist lösbar.\")\n",
    "except Exception as e:\n",
    "    print(\"\\nLGS AX = B ist unlösbar -> Exception LinAlgError:\", e)\n",
    "    solvable = False\n",
    "\n",
    "print(\"Ihre Antwort zur Lösbarkeit:\", antwort)\n",
    "\n",
    "if solvable and possible:\n",
    "    if np.array_equal(A @ X, B):\n",
    "        print(\"\\nIhr Lösungsvektor X =\", X, \"ist korrekt.\")\n",
    "    else:\n",
    "        print(\"\\nIhr Lösungsvektor X =\", X, \"ist nicht korrekt.\")"
   ]
  },
  {
   "cell_type": "code",
   "execution_count": 37,
   "metadata": {},
   "outputs": [
    {
     "name": "stdout",
     "output_type": "stream",
     "text": [
      "\n",
      "LGS AX = B ist unlösbar -> Exception LinAlgError: Singular matrix\n",
      "Ihre Antwort zur Lösbarkeit: unlösbar\n"
     ]
    }
   ],
   "source": [
    "# Teilaufgabe 1 b)\n",
    "\n",
    "A = np.array([[1, 0, 1], [1, 0, 1], [2, 1, 0]])\n",
    "X = # hier möglichen Lösungsvektor eintragen\n",
    "B = np.array([10, 12, 9])\n",
    "\n",
    "\n",
    "possible = (\n",
    "    ...  # legen sie zunächst fest (True/False), ob das LGS lösbar ist oder nicht\n",
    ")\n",
    "solvable = True\n",
    "antwort = \"lösbar\" if possible == True else \"unlösbar\"\n",
    "\n",
    "# den nachfolgende Code-Abschnitt müssen Sie nicht nachvollziehen\n",
    "try:\n",
    "    Y = np.linalg.solve(A, B)\n",
    "    print(\"Das LGS AX = B ist lösbar.\")\n",
    "\n",
    "except Exception as e:\n",
    "    print(\"\\nLGS AX = B ist unlösbar -> Exception LinAlgError:\", e)\n",
    "    solvable = False\n",
    "\n",
    "print(\"Ihre Antwort zur Lösbarkeit:\", antwort)\n",
    "\n",
    "if solvable and possible:\n",
    "    if np.array_equal(A @ X, B):\n",
    "        print(\"\\nIhr Lösungsvektor X =\", X, \"ist korrekt.\")\n",
    "    else:\n",
    "        print(\"\\nIhr Lösungsvektor X =\", X, \"ist nicht korrekt.\")"
   ]
  },
  {
   "cell_type": "code",
   "execution_count": 5,
   "metadata": {},
   "outputs": [],
   "source": [
    "# Teilaufgabe 2\n",
    "t = 7  # Tragen Sie hier Ihren Wert für t ein und führen Sie zunächst diese Zelle aus."
   ]
  },
  {
   "cell_type": "code",
   "execution_count": 11,
   "metadata": {},
   "outputs": [
    {
     "name": "stdout",
     "output_type": "stream",
     "text": [
      "Ihre Lösung für t = 7 ist korrekt. Das LGS\n",
      "\n",
      " x_1 + 7 x_2 = 1\n",
      " 14 x_1 + 3 x_2 = 0\n",
      "\n",
      "ist eindeutig lösbar.\n"
     ]
    }
   ],
   "source": [
    "# Führen Sie anschließend diese Zelle aus\n",
    "\n",
    "\n",
    "\n",
    "if t != np.sqrt(3 / 2):\n",
    "\n",
    "\n",
    "    print(\n",
    "        \"Ihre Lösung für t =\",\n",
    "        t,\n",
    "\n",
    "        \"ist korrekt. Das LGS\\n\\n x_1 +\",\n",
    "        t,\n",
    "\n",
    "        \"x_2 = 1\\n\",\n",
    "        2 * t,\n",
    "        \"x_1 + 3 x_2 = 0\\n\\nist eindeutig lösbar.\",\n",
    "    )\n",
    "\n",
    "\n",
    "else:\n",
    "\n",
    "\n",
    "    print(\"Ihre Lösung für t =\", t, \"ist nicht korrekt.\")"
   ]
  }
 ],
 "metadata": {
  "kernelspec": {
   "display_name": "Python 3 (ipykernel)",
   "language": "python",
   "name": "python3"
  },
  "language_info": {
   "codemirror_mode": {
    "name": "ipython",
    "version": 3
   },
   "file_extension": ".py",
   "mimetype": "text/x-python",
   "name": "python",
   "nbconvert_exporter": "python",
   "pygments_lexer": "ipython3",
   "version": "3.10.13"
  }
 },
 "nbformat": 4,
 "nbformat_minor": 4
}
