{
 "cells": [
  {
   "cell_type": "markdown",
   "metadata": {},
   "source": [
    "# Weitere Operationen auf Matrizen mithilfe von Python\n",
    "\n",
    "Dieses Notebook sollte im Anschluss an \"Grundlagen der Matrizen\" bearbeitet werden. Sie werden lernen, wie Sie in Python die Transposition und Inverse einer entsprechenden Matrix implementieren können. Optional, aber nicht weniger sinnvoll und wichtig, ist die Bearbeitung des Notebooks \"Determinante\", um auch dieses Werkzeug in Python implementieren und in möglichen Anwednungsbeispielen nutzen zu können. \n",
    "\n",
    "<b> Python Grundlagen: </b>Umgang mit NumPy, Kontrollstrukturen, Schleifen, Variablen<br>\n",
    "<b> Math. Grundlagen: </b> Vektoren, Matrizen <br>\n",
    "\n",
    "<ul>\n",
    " <li><a href=\"#1\">Transposition</a></li>\n",
    " <li><a href=\"#2\">Inverse einer Matrix für Matrizen</a></li>\n",
    "</ul>\n",
    "</p> "
   ]
  },
  {
   "cell_type": "code",
   "execution_count": 2,
   "metadata": {},
   "outputs": [],
   "source": [
    "# Import der benötigten Module\n",
    "import numpy as np"
   ]
  },
  {
   "attachments": {},
   "cell_type": "markdown",
   "metadata": {},
   "source": [
    "### Transposition <a id=\"1\"></a>\n",
    "\n",
    "Hin und wieder werden Sie auf sogenannte transponierte Matrizen stoßen. Die zu $A$ transponierte Matrix $A^T$ (Transposition von $A$) entsteht, indem man die Zeilen und Spalten vertauscht. Ist zum Beispiel $ A = \\begin{pmatrix*}[r] 1 & 2 & 3\\\\ 0 & 5 & 4\\\\6 & 1 & 1\\\\\\end{pmatrix*} $, dann lautet die zu $A$ transponierte Matrix $$ A^T = \\begin{pmatrix*}[r] 1 & 0 & 6\\\\ 2 & 5 & 1\\\\3 & 4 & 1\\\\\\end{pmatrix*} $$ In kurz also $(A^T)_{ij} = a_{ji}.$ In Python können sie über <code>transpose</code> oder <code>.T</code> eine Matrix transponieren.\n",
    "\n",
    "Man kann leicht nachrechnen, dass $$(A+B)^T = A^T + B^T$$ gilt. Ferner nennt man $A$ <i>symmetrisch</i>, wenn $A^T=A$.\n",
    "\n",
    "Für die folgende Aufgabe werden Sie zufällige Matrizen benötigen, um schnell einige Testfälle zu erzeugen. Über den Befehl <code>random.randint(-r,r,size=(m,n))</code> von <code>numpy</code> können Sie eine randomisierte $m \\times n$-Matrix generieren, deren Einträge ganze Zahlen sind und zwischen $-r$ und $r$ liegen.\n"
   ]
  },
  {
   "attachments": {},
   "cell_type": "markdown",
   "metadata": {},
   "source": [
    "\n",
    "<div style= \"color: black;background-color: powderblue ;margin: 10 px auto; padding: 10px; border-radius: 10px\">\n",
    "    <p style=\"font-size:12pt; text-align:center; color:   black; background-color: lightskyblue ;margin: 10 px auto; padding: 10px; border-radius: 10px\" id=\"1\"><b>Aufgabe 1</b>  </p> \n",
    "   \n",
    "<b>Teilaufgabe a) </b> Bestimmen Sie zu $A = \\begin{pmatrix*}[r] 11 & 4 & 3\\\\ -6 & 0 & 1\\end{pmatrix*}$ die transponierte $A^T$. Überprüfen Sie anschließend Ihr Ergebnis in der Ausgabe. <hr>\n",
    "\n",
    "<b>Teilaufgabe b) </b> Überprüfen Sie mithilfe der Code-Zelle, wie ein Produkt von Matrizen $AB$ transponiert wird, indem Sie sich ähnlich zur Addition überlegen, was die Transposition des Proukts mit $A^T$ und $B^T$ zu tun hat. Stellen Sie eine Rechenregel auf $$(AB)^T = \\dots $$ und prüfen Sie diese an zufällig generierten Matrizen. Auf einen formalen Beweis dürfen Sie an dieser Stelle verzichten.<hr>\n",
    "\n",
    "<b>Teilaufgabe c) </b> Generieren Sie zufällige $2 \\times 2$ -, $3 \\times 3$ - und $4 \\times 4$ -Matrizen $A$. Lassen Sie sich anschließend die Matrix $$P = \\frac{1}{2}\\left(A+A^T\\right)$$ ausgeben. Was können sie feststellen? Notieren Sie Ihre Beobachtungen und versuchen Sie eine allgemeine Behauptung aufzustellen. Begründen Sie diese. <hr>\n",
    "\n",
    "<b>Teilaufgabe d) </b> Schreiben Sie selbst eine Funktion <code>trp</code>, welche eine vorgegebene Matrix $A$ transponiert. Ergänzen Sie dafür fehlende Stellen in der Code-Zelle. Die Verwendung der Funktion <code>transpose</code> über <code>numpy</code> ist dafür nicht erlaubt. Nutzen Sie stattdessen lediglich <code>for</code>-Schleifen. "
   ]
  },
  {
   "cell_type": "code",
   "execution_count": null,
   "metadata": {},
   "outputs": [],
   "source": [
    "# Teilaufgabe 1\n",
    "A = np.array([[11,4,3], [-6,0,1]])\n",
    "A_T = # Fügen Sie hier ihre transponierte Matrix ein\n",
    "\n",
    "B = np.transpose(A)\n",
    "\n",
    "if(np.array_equal(A_T,B)):\n",
    "    print('Transposition korrekt bestimmt. \\n A^T =\\n', A_T)\n",
    "else:\n",
    "    print('Transposition nicht korrekt bestimmt. \\n A^T =\\n', B)"
   ]
  },
  {
   "cell_type": "code",
   "execution_count": null,
   "metadata": {},
   "outputs": [],
   "source": [
    "# Teilaufgabe 2\n",
    "A = np.random.randint(-10,10,size=(4,3))\n",
    "B = np.random.randint(-10,10,size=(3,5))\n",
    "\n",
    "A_T = np.transpose(A)\n",
    "B_T = np.transpose(B)\n",
    "\n",
    "P = np.transpose(A@B)\n",
    "Q = # Verwenden sie A_T und B_T und verknüpfen Sie beide Matrizen geschickt\n",
    "print('P =\\n', P)\n",
    "print('\\nQ =\\n', Q)"
   ]
  },
  {
   "cell_type": "code",
   "execution_count": null,
   "metadata": {},
   "outputs": [],
   "source": [
    "# Teilaufgabe 3\n",
    "A = np.random.randint(-10, 10, size=(4, 4))\n",
    "P = 0.5 * (A + np.transpose(A))\n",
    "print(\"P =\\n\", P)"
   ]
  },
  {
   "cell_type": "code",
   "execution_count": null,
   "metadata": {},
   "outputs": [],
   "source": [
    "# Teilaufgabe 4\n",
    "def trp(matrix):\n",
    "    num_rows = matrix.shape[0]\n",
    "    num_cols = # ???\n",
    "    \n",
    "    result = []\n",
    "    for ... in ... : # ???\n",
    "        rowresult = []\n",
    "        for ... in ... : # ???\n",
    "            rowresult.append(...) # ???\n",
    "        result.append(rowresult)\n",
    "\n",
    "    return np.array(result)\n",
    "\n",
    "# Nach Fertigstellung der Funktion trp(), können Sie diese anschließend testen\n",
    "A = np.random.randint(-10,10,size=(3,2))\n",
    "A_T = trp(A)\n",
    "\n",
    "print('A =', A, '\\n')\n",
    "print('A^T =\\n', A_T)"
   ]
  },
  {
   "attachments": {},
   "cell_type": "markdown",
   "metadata": {},
   "source": [
    "### Inverse einer Matrix <a id=\"2\"></a>\n",
    "\n",
    "Wenn es darum geht, ein LGS mit der Koeffizientenmatrix $A$, dem Lösungsvektor $X$ (aufgefasst als Matrix) und Lösungsvektor $B$ zu lösen, dann musste man im Wesentlichen das System  $$ AX= B$$ untersuchen. Im Fall von reellen Zahlen $a,b,x \\in \\mathbb{R}$ mit $ax=b$, ist klar, dass $a \\neq 0$ sein muss, damit $x = \\frac{b}{a}$ gilt.\n",
    "\n",
    "Diese Idee lässt sich auf quadratische Matrizen übertragen: Sie haben bereits solche Matrizen $A$ kennengelernt, für die es eine Matrix $B$ gibt, mit $$AB = BA = E_n$$ Solche Matrizen nennt man <i>invertierbar</i>, denn genau wie im reellen Fall lässt sich damit die Matrizenmultiplikation umkehren. Die Notation dafür lautet $$B = A^{-1}$$\n",
    "\n",
    "Zum Beispiel ist die Matrix $A = \\begin{pmatrix*}[r] 0 & 1\\\\ -1 & 1 \\end{pmatrix*}$ invertierbar mit $$A^{-1} =  \\begin{pmatrix*}[r] 1 & 1\\\\ 1 & 0 \\end{pmatrix*}$$Natürlich muss nicht jede quadratische Matrix invertierbar sein, das zeigt schon das Gegenbeispiel $\\begin{pmatrix*}[c] 1 & 0\\\\ 0 & 0\\end{pmatrix*}$.\n",
    "\n",
    "Zur Berechnung der Inversen kann man wieder das Gauß'sche Eliminationsverfahren nutzen, indem man folgendermaßen vorgeht: \n",
    "\n",
    "Am Beispiel einer $3 \\times 3$ - Matrix schreibt man zunächst rechts von der zu invertierenden Matrix die Einheitsmatrix daneben auf\n",
    "\n",
    "$$\\left( \\begin{array}{ccc|ccc}\n",
    "1 & 0 & 1 & 1 & 0 & 0 \\\\\n",
    "1 & 3 & 0 & 0 & 1 & 0 \\\\\n",
    "1 & 1 & 0 & 0 & 0 & 1 \\\\\n",
    "\\end{array} \\right)$$\n",
    "\n",
    "Dann formt man gleichzeitig beide Seiten mit dem Gauß-Algorithmus um, sodass auf der linken Seite die Einheitsmatrix steht und rechts die gesuchte Inverse vorzufinden ist. Exemplarisch würde sich ergeben\n",
    "\n",
    "$$\\left( \\begin{array}{ccc|ccc}\n",
    "1 & 0 & 1 & 1 & 0 & 0 \\\\\n",
    "1 & 3 & 0 & 0 & 1 & 0 \\\\\n",
    "1 & 1 & 0 & 0 & 0 & 1 \\\\\n",
    "\\end{array} \\right) \\overset{\\text{Gauß-Algorithmus}}{\\iff}\n",
    "\\left( \\begin{array}{ccc|rrr}\n",
    "1 & 0 & 0 & 0 & -\\frac{1}{2} & \\frac{3}{2} \\\\[4pt]\n",
    "0 & 1 & 0 & 0 & \\frac{1}{2} & -\\frac{1}{2} \\\\[4pt]\n",
    "0 & 0 & 1 & 1 & \\frac{1}{2} & -\\frac{3}{2} \n",
    "\\end{array} \\right),$$\n",
    "\n",
    "    \n",
    " d.h. es ist $\\begin{pmatrix*}[r] 1 & 0 & 1 \\\\ 1 & 3 & 0 \\\\ 1 & 1 & 0 \\end{pmatrix*}^{-1} = \\begin{pmatrix*}[r]  0 & -\\frac{1}{2} & \\frac{3}{2} \\\\[4pt]\n",
    " 0 & \\frac{1}{2} & -\\frac{1}{2} \\\\[4pt]\n",
    " 1 & \\frac{1}{2} & -\\frac{3}{2}  \\end{pmatrix*}^{-1}$ \n",
    " \n",
    " In Python verwenden sie mit <code>numpy</code> die Funktion <code>linalg.inv</code> zum Invertieren einer Matrix, sofern sie invertierbar ist.\n"
   ]
  },
  {
   "attachments": {},
   "cell_type": "markdown",
   "metadata": {},
   "source": [
    "<div style= \"color: black;background-color: powderblue ;margin: 10 px auto; padding: 10px; border-radius: 10px\">\n",
    "    <p style=\"font-size:12pt; text-align:center; color:   black; background-color: lightskyblue ;margin: 10 px auto; padding: 10px; border-radius: 10px\" id=\"1\"><b>Aufgabe 2</b>  </p> \n",
    "    \n",
    "<b>Teilaufgabe a) </b> Bestimmen Sie zu $A = \\begin{pmatrix*}[c] 7 & 9 \\\\ 3 & 4 \\end{pmatrix*}$ die Inverse $A^{-1}$. Überprüfen Sie anschließend Ihr Ergebnis in der Ausgabe.<hr>\n",
    "\n",
    "<b>Teilaufgabe b) </b> Bestimmen Sie ein $t \\in \\mathbb{R}$, sodass die Matrix $A = \\begin{pmatrix*}[c] 8 & 9 & t \\\\ 3 & 0 & 2\\\\ 1 & 1 & 0\\end{pmatrix*}$ invertierbar wird. Prüfen Sie Ihr Ergebnis in der Ausgabe. <hr>\n",
    "\n",
    "<b>Teilaufgabe c) </b> Gegeben sei eine Matrix $A = \\begin{pmatrix*}[c] a & b \\\\ c & d \\end{pmatrix*}$ mit $a,b,c,d \\in \\mathbb{R}.$ Analysieren Sie, wann $A$ invertierbar ist und ergänzen Sie die vorgegebene Funktion <code>inv</code>, die $A$ invertieren soll, sofern möglich."
   ]
  },
  {
   "cell_type": "code",
   "execution_count": null,
   "metadata": {},
   "outputs": [],
   "source": [
    "# Teilaufgabe 1\n",
    "\n",
    "A = np.array([[7,9],[3,4]]) \n",
    "A_inv =  # Tragen Sie hier Ihre Inverse ein\n",
    "E = np.array([[1,0],[0,1]])\n",
    "\n",
    "B = np.linalg.inv(A)\n",
    "\n",
    "if(np.array_equal(A@A_inv, E)):\n",
    "    print('Sie haben die Inverse von A korrekt ermittelt. A^(-1) =\\n', A_inv)\n",
    "else:\n",
    "    print('Sie haben die Inverse von A nicht korrekt ermittelt. A^(-1) =\\n', B)"
   ]
  },
  {
   "cell_type": "code",
   "execution_count": null,
   "metadata": {},
   "outputs": [],
   "source": [
    "# Teilaufgabe 2\n",
    "\n",
    "t = # Legen Sie hier t fest\n",
    "\n",
    "A = np.array([[8,9,t],[3,0,2],[1,1,0]])\n",
    "\n",
    "# Sie müssen den nachfolgenden COde nciht nachvollziehen!\n",
    "try:\n",
    "    B = np.linalg.inv(A)\n",
    "    print('A ist invertierbar mit A^(-1) =\\n', B)\n",
    "except Exception as e: \n",
    "    print('A ist nicht invertierbar.')\n"
   ]
  },
  {
   "cell_type": "code",
   "execution_count": null,
   "metadata": {},
   "outputs": [],
   "source": [
    "# Teilaufgabe 3\n",
    "\n",
    "def inv(matrix):\n",
    "\n",
    "    a = matrix[0][0]\n",
    "    b = matrix[0][1]\n",
    "    c = matrix[1][0]\n",
    "    d = matrix[1][1]\n",
    "\n",
    "    if(...): # Welche Eigenschaft muss für Invertierbarkeit erfüllt sein?\n",
    "        result = ... * np.array(...) # Wie lautet, sofern möglich, die invertierte Matrix? Beachten Sie den gesetzten Vorfaktor!\n",
    "        return  # ???\n",
    "    \n",
    "    else:   \n",
    "        raise Exception('Matrix ist nicht invertierbar')\n",
    "\n",
    "# Testen Sie die Funktion inv() aus!\n",
    "A = np.array([[7,7],[5,7]])\n",
    "\n",
    "# Sie müssen den nachfolgenden Code nicht nachvollziehen!\n",
    "try:\n",
    "    A_inv = inv(A)     \n",
    "    print('A^(-1) = \\n', A_inv)\n",
    "except Exception as e: print(e)"
   ]
  },
  {
   "attachments": {},
   "cell_type": "markdown",
   "metadata": {},
   "source": [
    "## Schmierzettel\n",
    "\n",
    "Nutzen Sie diesen Bereich, wenn Sie STACK-Aufgaben zu Operationen von Matrizen selbst mithilfe von Python kontrollieren wollen. Schreiben Sie selbst Funktionen, die Sie zur Überprüfung benötigen können."
   ]
  },
  {
   "cell_type": "code",
   "execution_count": 18,
   "metadata": {},
   "outputs": [],
   "source": [
    "# Lösungen können hier programmiert werden"
   ]
  }
 ],
 "metadata": {
  "kernelspec": {
   "display_name": "base",
   "language": "python",
   "name": "python3"
  },
  "language_info": {
   "codemirror_mode": {
    "name": "ipython",
    "version": 3
   },
   "file_extension": ".py",
   "mimetype": "text/x-python",
   "name": "python",
   "nbconvert_exporter": "python",
   "pygments_lexer": "ipython3",
   "version": "3.10.13"
  },
  "orig_nbformat": 4
 },
 "nbformat": 4,
 "nbformat_minor": 2
}
