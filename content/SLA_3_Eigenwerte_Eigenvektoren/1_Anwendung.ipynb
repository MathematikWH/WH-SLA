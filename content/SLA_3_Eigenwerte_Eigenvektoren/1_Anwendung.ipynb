{
 "cells": [
  {
   "cell_type": "markdown",
   "metadata": {},
   "source": [
    "# Anwendung"
   ]
  },
  {
   "cell_type": "markdown",
   "metadata": {},
   "source": [
    "## PageRank"
   ]
  },
  {
   "cell_type": "markdown",
   "metadata": {},
   "source": [
    "Der PageRank-Algorithmus ist ein Algorithmus zur Link-Analyse, der von der Google-Suche verwendet wird, um Websites in den Suchmaschinenergebnissen zu bewerten. Der Algorithmus wurde von Larry Page und Sergey Brin entwickelt. Der Grundgedanke hinter PageRank ist, dass die Bedeutung einer Website durch die Anzahl der anderen Websites, die auf sie verlinken, sowie durch die Bedeutung dieser verlinkenden Websites bestimmt werden kann. Ein Link von einer hochrangigen Website trägt mehr zum Ranking der Zielwebsite bei als ein Link von einer weniger wichtigen Website.\n",
    "<br><br>\n",
    "PageRank ist nur einer von vielen Faktoren, die Google verwendet, um die Relevanz und den Rang einer Webseite in den Suchmaschinenergebnissen zu bestimmen. Es handelt sich jedoch um einen der wichtigsten Faktoren, der seit den Anfängen des Unternehmens ein wesentlicher Bestandteil des Google-Ranking-Algorithmus ist.\n",
    "\n"
   ]
  },
  {
   "cell_type": "markdown",
   "metadata": {},
   "source": [
    "Hierbei wird bei dem Algorithmus jeder Webseite einen numerischen Wert zgewiesen, den so genannten \"PageRank-Score\". Dieser Wert basiert auf der Wichtigkeit der Webseite, die durch die Anzahl und Qualität der Links, die auf sie verweisen, bestimmt wird. Je mehr Links eine Webseite von anderen wichtigen Webseiten hat, desto höher ist ihr PageRank-Wert.\n",
    "\n",
    "Der PageRank-Algorithmus basiert auf der Idee, Eigenvektoren und Eigenwerte zu verwenden, um die Bedeutung einer Webseite zu berechnen. Bei diesem Algorithmus wird das Web als gerichteter Graph modelliert, wobei jede Webseite als Knoten im Graph und jeder Hyperlink als gerichtete Kante dargestellt wird."
   ]
  },
  {
   "attachments": {},
   "cell_type": "markdown",
   "metadata": {},
   "source": [
    "$$\n",
    "A \\leftrightarrow B, A \\rightarrow C, A \\rightarrow D \\\\\n",
    "B \\leftrightarrow D \\\\\n",
    "C \\leftrightarrow D . \\\\\n",
    "$$\n",
    "$\\rightarrow$ referenziert von der ersten Webseite auf die zweite und bei $\\leftrightarrow$ refrenzieren die Seiten sich gegenseitig. In diesem Beispiel refrenziert sich keine Webseite selbst und die Wahrscheinlichkeiten sind gleich verteilt. Damit entsteht folgende Verteilung <br><br>\n",
    "$$\n",
    "p(A \\rightarrow B) = p(A \\rightarrow C) = p(A \\rightarrow D) = \\frac{1}{3} \\\\\n",
    "p(B \\rightarrow A) = p(B \\rightarrow D) = \\frac{1}{2} \\\\\n",
    "p(C \\rightarrow D) = 1 \\\\\n",
    "p(D \\rightarrow B) = p(D \\rightarrow C) = \\frac{1}{2}.\n",
    "$$"
   ]
  },
  {
   "attachments": {},
   "cell_type": "markdown",
   "metadata": {},
   "source": [
    "Für ein Beispiel wird angenommen man hätte vier Webseiten $A,B,C,D$ mit den folgenden Verbindungen\n",
    "<center><img src=\"graph.png\" width=250 height=250 ></center>.<br>\n",
    "Dies kann man als Übergangsmatrix formulieren\n",
    "\n",
    "$$\n",
    "P = \\begin{bmatrix}\n",
    "p_{A→A}=0 & p_{B→A}=1/2 & p_{C→A}=0 & p_{D→A}=???  \\\\\n",
    "p_{A→B}=1/3 & p_{B→B}=0 & p_{C→B}=0 & p_{D→B}=???  \\\\\n",
    "p_{A→C}=1/3 & p_{B→C}=0 & p_{C→C}=0 & p_{D→C}=???  \\\\\n",
    "p_{A→D}=1/3 & p_{B→D}=1/2 & p_{C→D}=1 & p_{D→D}=???  \\\\\n",
    "\\end{bmatrix}\n",
    "$$\n",
    "\n",
    "In Python würde die Matrix so aussehen:"
   ]
  },
  {
   "cell_type": "code",
   "execution_count": 1,
   "metadata": {},
   "outputs": [
    {
     "ename": "SyntaxError",
     "evalue": "invalid syntax (3423055284.py, line 4)",
     "output_type": "error",
     "traceback": [
      "\u001b[0;36m  Input \u001b[0;32mIn [1]\u001b[0;36m\u001b[0m\n\u001b[0;31m    [0.        , 0.5       , 0.        ,???       ],\u001b[0m\n\u001b[0m                                        ^\u001b[0m\n\u001b[0;31mSyntaxError\u001b[0m\u001b[0;31m:\u001b[0m invalid syntax\n"
     ]
    }
   ],
   "source": [
    "import numpy as np\n",
    "# Vervollständigen Sie die Übergangstabelle\n",
    "P = np.array([\n",
    "       [0.        , 0.5       , 0.        ,???       ],\n",
    "       [0.33333333, 0.        , 0.        ,???       ],\n",
    "       [0.33333333, 0.        , 0.        ,???       ],\n",
    "       [0.33333333, 0.5       , 1.        ,???       ]\n",
    "       ])"
   ]
  },
  {
   "attachments": {},
   "cell_type": "markdown",
   "metadata": {},
   "source": [
    "Man nehme nun an es gäbe $100$ Personen von denen jede Person immer nur eine Webseite besucht. Jede Minute folgt die Person einem Link auf der Webseite und wird auf eine andere Webseite weitergeleitet. Nach einer gewissen Zeit werden die Webseiten die am häufigsten verlinkt sind von mehr Personen besucht und die Besucher je Webseite konvergieren. Der PageRank bildet dazu eine Rangliste der Webseiten nach ihrer Besucheranzahl. <br><br>\n",
    "Die Besucheranzahl je Webseite wird als Vektor dargestellt\n",
    "$$\n",
    "\\mathbf{r} = \\begin{bmatrix} r_A \\\\ r_B \\\\ r_C \\\\ r_D  \\end{bmatrix}.\n",
    "$$\n",
    "Zudem stehen die Anzahl an Personen auf jeder Webseite zur Minute $i + 1$ mit denen bei Minute $i$ durch folgende Matrix Transformation im Verhältnis\n",
    "$$\n",
    "\\mathbf{r}^{(i+1)} = P \\,\\mathbf{r}^{(i)}.\n",
    "$$\n",
    "Man geht davon aus, dass die Besucheranzahl je Webseite konvergiert, das beduetet $\\mathbf{r}^{(i+1)} = \\mathbf{r}^{(i)}$. Somit kann man die Indizes entfernen \n",
    "$$\n",
    "L \\,\\mathbf{r} = \\mathbf{r}\n",
    "$$\n",
    "und man bekommt damit ein Eigenwertproblem.\n"
   ]
  },
  {
   "cell_type": "code",
   "execution_count": 236,
   "metadata": {},
   "outputs": [],
   "source": [
    "eigen_vals, eigen_vecs = np.linalg.eig(P) # Eigenwerte und Eigenvektoren berechnen\n",
    "\n",
    "order_eigen_values = np.absolute(eigen_vals).argsort()[::-1] \n",
    "eigen_vals = eigen_vals[order_eigen_values] # Eigenwerte nach der Grösse sortieren\n",
    "eigen_vecs = eigen_vecs[:, order_eigen_values] # Eigenvektore sortieren"
   ]
  },
  {
   "cell_type": "code",
   "execution_count": 237,
   "metadata": {},
   "outputs": [
    {
     "data": {
      "text/plain": [
       "array([-0.22298824, -0.44597649, -0.44597649, -0.74329415])"
      ]
     },
     "execution_count": 237,
     "metadata": {},
     "output_type": "execute_result"
    }
   ],
   "source": [
    "r = eigen_vecs[:, 0]\n",
    "r"
   ]
  },
  {
   "cell_type": "code",
   "execution_count": 238,
   "metadata": {},
   "outputs": [
    {
     "data": {
      "text/plain": [
       "array([12.00000001, 23.99999999, 23.99999999, 40.        ])"
      ]
     },
     "execution_count": 238,
     "metadata": {},
     "output_type": "execute_result"
    }
   ],
   "source": [
    "visits = 100 * np.real(r / np.sum(r)) # Eigenvektor auf eins summieren und mal 100 multiplizieren\n",
    "visits"
   ]
  },
  {
   "attachments": {},
   "cell_type": "markdown",
   "metadata": {},
   "source": [
    "Damit sind die Besuche folglich verteilt\n",
    "$$\n",
    "r_A = 12 \\ \\text{Besuche}, \\ r_B = 24 \\ \\text{Besuche}, \\ r_C = 24 \\ \\text{Besuche}, \\ r_D = 40 \\ \\text{Besuche} .\n",
    "$$\n",
    "Eine weitere Möglichkeit zur Lösungen des PageRank-Problems ist es die Übergangstabelle als Markow-Kette zu verstehen. Dadurch kann man die stationäre Verteilung berechnen und so würde man auf das gleiche Ergebnis kommen wie bei der Lösung des Problems als Eigenwertproblem. \n"
   ]
  },
  {
   "attachments": {},
   "cell_type": "markdown",
   "metadata": {},
   "source": [
    "Zuerst wird eine Initialverteilung erstellt."
   ]
  },
  {
   "cell_type": "code",
   "execution_count": 258,
   "metadata": {},
   "outputs": [
    {
     "data": {
      "text/plain": [
       "array([25., 25., 25., 25.])"
      ]
     },
     "execution_count": 258,
     "metadata": {},
     "output_type": "execute_result"
    }
   ],
   "source": [
    "r = 100 * np.ones(4) / 4\n",
    "r"
   ]
  },
  {
   "attachments": {},
   "cell_type": "markdown",
   "metadata": {},
   "source": [
    "Nun kann man das Skalarprodukt der Intialverteilung und der Übergangstabelle berechnen. Jede Berechnung spiegelt eine Simulation des Klickverhaltens der Personen dar. Führen Sie den folgenden Code so lange durch bis die Werte anfangen zu konvergieren."
   ]
  },
  {
   "cell_type": "code",
   "execution_count": 270,
   "metadata": {},
   "outputs": [
    {
     "data": {
      "text/plain": [
       "array([11.34672003, 25.18668012, 25.18668012, 38.27991815])"
      ]
     },
     "execution_count": 270,
     "metadata": {},
     "output_type": "execute_result"
    }
   ],
   "source": [
    "r = P.dot(r) \n",
    "r "
   ]
  },
  {
   "attachments": {},
   "cell_type": "markdown",
   "metadata": {},
   "source": [
    "Wie Sie erkennen konnten konvergieren die Werte an die bereits vorher gefundenen Besucheranzahlen. Dies kann man auch noch automatisieren."
   ]
  },
  {
   "cell_type": "code",
   "execution_count": 275,
   "metadata": {},
   "outputs": [
    {
     "name": "stdout",
     "output_type": "stream",
     "text": [
      "77 Iterationen bis zur Konvergenz\n"
     ]
    },
    {
     "data": {
      "text/plain": [
       "array([11.99885967, 24.00206708, 24.00206708, 39.99699669])"
      ]
     },
     "execution_count": 275,
     "metadata": {},
     "output_type": "execute_result"
    }
   ],
   "source": [
    "r = 100 * np.ones(4) / 4 \n",
    "lastR = r\n",
    "r = P.dot(r)\n",
    "i = 0\n",
    "while np.linalg.norm(lastR - r) > 0.01 :\n",
    "    lastR = r\n",
    "    r = P.dot(r)\n",
    "    i += 1\n",
    "print(str(i) + \" Iterationen bis zur Konvergenz\")\n",
    "r"
   ]
  }
 ],
 "metadata": {
  "kernelspec": {
   "display_name": "base",
   "language": "python",
   "name": "python3"
  },
  "language_info": {
   "codemirror_mode": {
    "name": "ipython",
    "version": 3
   },
   "file_extension": ".py",
   "mimetype": "text/x-python",
   "name": "python",
   "nbconvert_exporter": "python",
   "pygments_lexer": "ipython3",
   "version": "3.8.13"
  },
  "orig_nbformat": 4,
  "vscode": {
   "interpreter": {
    "hash": "06e9f68a5fd931671a9d7f18b4810587644282b910ee1cd6b3f97fe455d95177"
   }
  }
 },
 "nbformat": 4,
 "nbformat_minor": 2
}
